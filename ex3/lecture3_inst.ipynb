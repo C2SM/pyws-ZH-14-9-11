{
 "metadata": {
  "name": "",
  "signature": "sha256:8e0bf667fcf8063b569a0960142da5526f871a73465392cb630fc436f29635f1"
 },
 "nbformat": 3,
 "nbformat_minor": 0,
 "worksheets": [
  {
   "cells": [
    {
     "cell_type": "code",
     "collapsed": false,
     "input": [
      "import numpy as np\n",
      "import scipy as sp\n",
      "import matplotlib.pyplot as plt\n",
      "from mpl_toolkits.basemap import Basemap\n",
      "import matplotlib\n",
      "import netCDF4\n",
      "from datetime import datetime, timedelta"
     ],
     "language": "python",
     "metadata": {},
     "outputs": []
    },
    {
     "cell_type": "markdown",
     "metadata": {},
     "source": [
      "## Load the list of files"
     ]
    },
    {
     "cell_type": "code",
     "collapsed": false,
     "input": [
      "datapath = './files/2011/10/'\n",
      "start = datetime(2011,10,5,0)\n",
      "end = datetime(2011,10,10,12)\n",
      "def interval(start, end, delta):\n",
      "    curr = start\n",
      "    while curr <= end:\n",
      "        yield curr\n",
      "        curr += delta\n",
      "files = [ datapath + date.strftime('Z%Y%m%d_%H') for date in interval(start, end, timedelta(hours=6))]"
     ],
     "language": "python",
     "metadata": {},
     "outputs": []
    },
    {
     "cell_type": "code",
     "collapsed": false,
     "input": [
      "files\n"
     ],
     "language": "python",
     "metadata": {},
     "outputs": []
    },
    {
     "cell_type": "markdown",
     "metadata": {},
     "source": [
      "## Read the files\n",
      "* Use the netCDF4.MFDataset to read a list of file\n",
      "* Use the aklay variable in the pressure_cst file as pressure"
     ]
    },
    {
     "cell_type": "code",
     "collapsed": false,
     "input": [
      "pfile = netCDF4.Dataset(datapath + 'pressure_cst')\n",
      "print pfile.variables.keys()\n",
      "pressure = pfile.variables['aklay'][:]\n",
      "print pressure\n",
      "pfile.close()"
     ],
     "language": "python",
     "metadata": {},
     "outputs": []
    },
    {
     "cell_type": "code",
     "collapsed": false,
     "input": [
      "ncfile = netCDF4.MFDataset(files)"
     ],
     "language": "python",
     "metadata": {},
     "outputs": []
    },
    {
     "cell_type": "markdown",
     "metadata": {},
     "source": [
      "## Load the data\n",
      "### load temperature and specific humidity"
     ]
    },
    {
     "cell_type": "code",
     "collapsed": false,
     "input": [
      "t = ncfile.variables['T'][:]\n",
      "q = ncfile.variables['Q'][:]"
     ],
     "language": "python",
     "metadata": {},
     "outputs": []
    },
    {
     "cell_type": "markdown",
     "metadata": {},
     "source": [
      "## Compute the equivalent potential temperature using the following information:\n",
      "\n",
      "Calculate it for the 850 hPa pressure level"
     ]
    },
    {
     "cell_type": "markdown",
     "metadata": {},
     "source": [
      "Simple equation of the potential temperature $\\Theta_{e}$:\n",
      "\\begin{equation}\n",
      "\\Theta_{e} = T \\cdot (1000/P)^{0.286} + 3\\cdot w\n",
      "\\end{equation}\n",
      "\n",
      "with T, temperature in K, P the pressure in hPa, w, mixing ratio in g kg$^{-1}$.\n",
      "\n",
      "The mixing ratio (kg kg$^{-1}$) can be expressed as :\n",
      "\\begin{equation}\n",
      "w = \\frac{1}{\\frac{1}{q_{v}}-1}\n",
      "\\end{equation}\n",
      "with $q_{v}$, the specific humidity in kg kg $^{-1}$"
     ]
    },
    {
     "cell_type": "code",
     "collapsed": false,
     "input": [
      "p = 850.\n",
      "index = np.where(pressure == p)[0][0]\n",
      "the = (t[:, index, ...] + 273)*(1000/p)**(0.286) + 3 *1e3 *(1/((1/q[:, index, ...])-1))"
     ],
     "language": "python",
     "metadata": {},
     "outputs": []
    },
    {
     "cell_type": "markdown",
     "metadata": {},
     "source": [
      "## Plot $\\Theta_{e}$ on a map\n",
      "* Use the domain 50W / 20N to 50E / 80N\n",
      "* Use m.contourf\n",
      "* np.meshgrid can be used to create a grid"
     ]
    },
    {
     "cell_type": "code",
     "collapsed": false,
     "input": [
      "m = Basemap(resolution='i', llcrnrlon=-50.,llcrnrlat=20.,urcrnrlon=50.,urcrnrlat=80)"
     ],
     "language": "python",
     "metadata": {},
     "outputs": []
    },
    {
     "cell_type": "code",
     "collapsed": false,
     "input": [
      "lon = np.arange(-180,181,1)\n",
      "lat = np.arange(-90,91,1)\n",
      "lons, lats = np.meshgrid(lon, lat)"
     ],
     "language": "python",
     "metadata": {},
     "outputs": []
    },
    {
     "cell_type": "code",
     "collapsed": false,
     "input": [
      "m.drawmeridians(np.arange(-180,181,10), labels=[0,0,0,1])\n",
      "m.drawparallels(np.arange(-90,91,10), labels=[1,0,0,0])\n",
      "m.drawcoastlines()\n",
      "m.drawmapboundary()\n",
      "m.drawcountries()\n",
      "cf = m.contourf(lons, lats, the[-4, ...], levels = np.arange(285, 335, 5), extend='both', cmap='YlGnBu')\n",
      "m.colorbar(cf)"
     ],
     "language": "python",
     "metadata": {},
     "outputs": []
    },
    {
     "cell_type": "markdown",
     "metadata": {},
     "source": [
      "## Calculate the integrated water vapor flux\n",
      "$$IVT = \\sqrt{\\frac{1}{g}\\left(\\int q_{v}\\cdot u\\,dp \\right)^{2}+ \\left(\\int q_{v}\\cdot v\\,dp  \\right)^{2}}$$\n",
      "* use np.trapz to integrate over pressure level"
     ]
    },
    {
     "cell_type": "code",
     "collapsed": false,
     "input": [
      "u = ncfile.variables['U'][:]\n",
      "v = ncfile.variables['V'][:]"
     ],
     "language": "python",
     "metadata": {},
     "outputs": []
    },
    {
     "cell_type": "code",
     "collapsed": false,
     "input": [
      "qu = q * u\n",
      "qv = q * v"
     ],
     "language": "python",
     "metadata": {},
     "outputs": []
    },
    {
     "cell_type": "code",
     "collapsed": false,
     "input": [
      "quin = 100/(9.81) * np.trapz(qu, pressure, axis=1)\n",
      "qvin = 100/(9.81) * np.trapz(qv, pressure, axis=1)\n",
      "ivt = np.sqrt(quin**2 + qvin**2)"
     ],
     "language": "python",
     "metadata": {},
     "outputs": []
    },
    {
     "cell_type": "markdown",
     "metadata": {},
     "source": [
      "## Add IVT contours to the $\\Theta_{e}$ plot\n",
      "* use m.contour\n",
      "* using the YlGnBu colormap for $\\Theta_{e}$ is quite nice"
     ]
    },
    {
     "cell_type": "code",
     "collapsed": false,
     "input": [
      "m.drawmeridians(np.arange(-180,181,10), labels=[0,0,0,1])\n",
      "m.drawparallels(np.arange(-90,91,10), labels=[1,0,0,0])\n",
      "m.drawcoastlines()\n",
      "m.drawmapboundary()\n",
      "m.drawcountries()\n",
      "cf = m.contourf(lons, lats, the[-1, ...], levels = np.arange(285, 335, 5), extend='both', cmap='YlGnBu')\n",
      "m.colorbar(cf)\n",
      "cf = m.contour(lons, lats, ivt[-1, ...], colors='r', levels=np.arange(0,700,200))\n",
      "lb = clabel(cf, cf.levels, fmt='%1.0f')"
     ],
     "language": "python",
     "metadata": {},
     "outputs": []
    },
    {
     "cell_type": "code",
     "collapsed": false,
     "input": [],
     "language": "python",
     "metadata": {},
     "outputs": []
    }
   ],
   "metadata": {}
  }
 ]
}