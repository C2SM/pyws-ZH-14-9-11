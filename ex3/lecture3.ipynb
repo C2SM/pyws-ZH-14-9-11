{
 "metadata": {
  "name": "",
  "signature": "sha256:4ec7372052f0c084f6f83e18df6987d8decfba7648bccaca2a0cd8653c6b03ca"
 },
 "nbformat": 3,
 "nbformat_minor": 0,
 "worksheets": [
  {
   "cells": [
    {
     "cell_type": "markdown",
     "metadata": {},
     "source": [
      "## Download the [Presentation](http://lab.c2sm.ethz.ch/pythonws/intro_modules.pdf) introducting netCDF, matplotlib and numpy."
     ]
    },
    {
     "cell_type": "code",
     "collapsed": false,
     "input": [
      "import numpy as np\n",
      "import scipy as sp\n",
      "import matplotlib.pyplot as plt\n",
      "from mpl_toolkits.basemap import Basemap\n",
      "import matplotlib\n",
      "from datetime import datetime, timedelta\n",
      "import netCDF4"
     ],
     "language": "python",
     "metadata": {},
     "outputs": []
    },
    {
     "cell_type": "markdown",
     "metadata": {},
     "source": [
      "## Load the list of files"
     ]
    },
    {
     "cell_type": "code",
     "collapsed": false,
     "input": [
      "datapath = './files/2011/10/'\n",
      "\n",
      "\n",
      "\n"
     ],
     "language": "python",
     "metadata": {},
     "outputs": []
    },
    {
     "cell_type": "markdown",
     "metadata": {},
     "source": [
      "## Read the files\n",
      "* Use the netCDF4.MFDataset to read a list of file\n",
      "* Use the aklay variable in the pressure_cst file as pressure"
     ]
    },
    {
     "cell_type": "code",
     "collapsed": false,
     "input": [
      "pfile = netCDF4.Dataset(datapath + 'pressure_cst')\n",
      "print pfile.variables.keys()\n"
     ],
     "language": "python",
     "metadata": {},
     "outputs": []
    },
    {
     "cell_type": "markdown",
     "metadata": {},
     "source": [
      "## Load the data\n",
      "### load temperature and specific humidity"
     ]
    },
    {
     "cell_type": "code",
     "collapsed": false,
     "input": [
      "\n"
     ],
     "language": "python",
     "metadata": {},
     "outputs": []
    },
    {
     "cell_type": "markdown",
     "metadata": {},
     "source": [
      "## Compute the equivalent potential temperature using the following information:\n",
      "\n",
      "Calculate it for the 850 hPa pressure level"
     ]
    },
    {
     "cell_type": "markdown",
     "metadata": {},
     "source": [
      "Simple equation of the potential temperature $\\Theta_{e}$:\n",
      "\\begin{equation}\n",
      "\\Theta_{e} = T \\cdot (1000/P)^{0.286} + 3\\cdot w\n",
      "\\end{equation}\n",
      "\n",
      "with T, temperature in K, P the pressure in hPa, w, mixing ratio in g kg$^{-1}$.\n",
      "\n",
      "The mixing ratio (kg kg$^{-1}$) can be expressed as :\n",
      "\\begin{equation}\n",
      "w = \\frac{1}{\\frac{1}{q_{v}}-1}\n",
      "\\end{equation}\n",
      "with $q_{v}$, the specific humidity in kg kg $^{-1}$"
     ]
    },
    {
     "cell_type": "code",
     "collapsed": false,
     "input": [],
     "language": "python",
     "metadata": {},
     "outputs": []
    },
    {
     "cell_type": "markdown",
     "metadata": {},
     "source": [
      "## Plot $\\Theta_{e}$ on a map\n",
      "* Use the domain 50W / 20N to 50E / 80N\n",
      "* Use m.contourf\n",
      "* np.meshgrid can be used to create a grid"
     ]
    },
    {
     "cell_type": "code",
     "collapsed": false,
     "input": [],
     "language": "python",
     "metadata": {},
     "outputs": []
    },
    {
     "cell_type": "markdown",
     "metadata": {},
     "source": [
      "## Calculate the integrated water vapor flux\n",
      "$$IVT = \\sqrt{\\frac{1}{g}\\left(\\int q_{v}\\cdot u\\,dp \\right)^{2}+ \\left(\\int q_{v}\\cdot v\\,dp  \\right)^{2}}$$\n",
      "* use np.trapz to integrate over pressure level"
     ]
    },
    {
     "cell_type": "code",
     "collapsed": false,
     "input": [],
     "language": "python",
     "metadata": {},
     "outputs": []
    },
    {
     "cell_type": "markdown",
     "metadata": {},
     "source": [
      "## Add IVT contours to the $\\Theta_{e}$ plot\n",
      "* use m.contour\n",
      "* using the YlGnBu colormap for $\\Theta_{e}$ is quite nice"
     ]
    },
    {
     "cell_type": "code",
     "collapsed": false,
     "input": [],
     "language": "python",
     "metadata": {},
     "outputs": []
    }
   ],
   "metadata": {}
  }
 ]
}