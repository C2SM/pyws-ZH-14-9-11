{
 "metadata": {
  "name": "",
  "signature": "sha256:1463640d0e0b955694898a1d28db3a5ab2a8684b97ceae8b012a4d345f271118"
 },
 "nbformat": 3,
 "nbformat_minor": 0,
 "worksheets": [
  {
   "cells": [
    {
     "cell_type": "code",
     "collapsed": false,
     "input": [],
     "language": "python",
     "metadata": {},
     "outputs": [],
     "prompt_number": 0
    },
    {
     "cell_type": "markdown",
     "metadata": {},
     "source": [
      "## Load the list of files"
     ]
    },
    {
     "cell_type": "code",
     "collapsed": false,
     "input": [
      "import netCDF4"
     ],
     "language": "python",
     "metadata": {},
     "outputs": [],
     "prompt_number": 1
    },
    {
     "cell_type": "markdown",
     "metadata": {},
     "source": [
      "## Read the files\n",
      "* Use the netCDF4.MFDataset to read a list of file\n",
      "* Use the aklay variable in the pressure_cst file as pressure"
     ]
    },
    {
     "cell_type": "code",
     "collapsed": false,
     "input": [
      "datapath = '/net/atmos/data/erainterim/cdf/2010/10/pressure_cst'\n",
      "pfile = netCDF4.Dataset(datapath)\n",
      "pressure = pfile.variables['aklay'][:]\n",
      "pfile.close()\n"
     ],
     "language": "python",
     "metadata": {},
     "outputs": [],
     "prompt_number": 2
    },
    {
     "cell_type": "markdown",
     "metadata": {},
     "source": [
      "## Load the data\n",
      "### load temperature and specific humidity"
     ]
    },
    {
     "cell_type": "code",
     "collapsed": false,
     "input": [
      "pressure\n"
     ],
     "language": "python",
     "metadata": {},
     "outputs": [
      {
       "metadata": {},
       "output_type": "pyout",
       "prompt_number": 4,
       "text": [
        "array([ 900.,  850.,  800.,  700.,  600.,  500.,  400.,  300.,  250.,\n",
        "        200.,  100.], dtype=float32)"
       ]
      }
     ],
     "prompt_number": 4
    },
    {
     "cell_type": "raw",
     "metadata": {},
     "source": [
      "## Compute the equivalent potential temperature using the following information:\n",
      "\n",
      "Calculate it for the 850 hPa pressure level"
     ]
    },
    {
     "cell_type": "markdown",
     "metadata": {},
     "source": [
      "Simple equation of the potential temperature $\\Theta_{e}$:\n",
      "\\begin{equation}\n",
      "\\Theta_{e} = T \\cdot (1000/P)^{0.286} + 3\\cdot w\n",
      "\\end{equation}\n",
      "\n",
      "with T, temperature in K, P the pressure in hPa, w, mixing ratio in g kg$^{-1}$.\n",
      "\n",
      "The mixing ratio (kg kg$^{-1}$) can be expressed as :\n",
      "\\begin{equation}\n",
      "w = \\frac{1}{\\frac{1}{q_{v}}-1}\n",
      "\\end{equation}\n",
      "with $q_{v}$, the specific humidity in kg kg $^{-1}$"
     ]
    },
    {
     "cell_type": "code",
     "collapsed": false,
     "input": [],
     "language": "python",
     "metadata": {},
     "outputs": [],
     "prompt_number": 0
    },
    {
     "cell_type": "markdown",
     "metadata": {},
     "source": [
      "## Plot $\\Theta_{e}$ on a map\n",
      "* Use the domain 50W / 20N to 50E / 80N\n",
      "* Use m.contourf\n",
      "* np.meshgrid can be used to create a grid"
     ]
    },
    {
     "cell_type": "code",
     "collapsed": false,
     "input": [],
     "language": "python",
     "metadata": {},
     "outputs": [],
     "prompt_number": 0
    },
    {
     "cell_type": "markdown",
     "metadata": {},
     "source": [
      "## Calculate the integrated water vapor flux\n",
      "$$IVT = \\sqrt{\\frac{1}{g}\\left(\\int q_{v}\\cdot u\\,dp \\right)^{2}+ \\left(\\int q_{v}\\cdot v\\,dp  \\right)^{2}}$$\n",
      "* use np.trapz to integrate over pressure level"
     ]
    },
    {
     "cell_type": "code",
     "collapsed": false,
     "input": [],
     "language": "python",
     "metadata": {},
     "outputs": [],
     "prompt_number": 0
    },
    {
     "cell_type": "markdown",
     "metadata": {},
     "source": [
      "## Add IVT contours to the $\\Theta_{e}$ plot\n",
      "* use m.contour\n",
      "* using the YlGnBu colormap for $\\Theta_{e}$ is quite nice"
     ]
    },
    {
     "cell_type": "code",
     "collapsed": false,
     "input": [],
     "language": "python",
     "metadata": {},
     "outputs": [],
     "prompt_number": 0
    }
   ],
   "metadata": {}
  }
 ]
}