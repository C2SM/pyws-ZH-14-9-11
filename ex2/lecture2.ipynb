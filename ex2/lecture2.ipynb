{
 "metadata": {
  "name": "",
  "signature": "sha256:e70c036cee82a2abe590064bbac72af42ab8f0e973b3481192fd289896f726df"
 },
 "nbformat": 3,
 "nbformat_minor": 0,
 "worksheets": [
  {
   "cells": [
    {
     "cell_type": "markdown",
     "metadata": {},
     "source": [
      "<center><span style=\"font-size:250%\"> Datatypes and Control-Flow</span></center>"
     ]
    },
    {
     "cell_type": "markdown",
     "metadata": {},
     "source": [
      "# Table of contents\n",
      "1. <a href=\"#numeric-types-int-long-float-complex-bool-\">Numeric Types</a>\n",
      "2. <a href=\"#strings\">Strings</a>\n",
      "3. <a href=\"#lists\">Lists</a>\n",
      "4. <a href=\"#tuples-and-sets\">Tuples and Sets</a>\n",
      "5. <a href=\"#dictionaries\">Dictionaries</a>\n",
      "6. <a href=\"#control-flow\">Control-Flow</a>\n",
      "7. <a href=\"#functions\">Functions</a>"
     ]
    },
    {
     "cell_type": "markdown",
     "metadata": {},
     "source": [
      "<a href=\"#exercises\">"
     ]
    },
    {
     "cell_type": "markdown",
     "metadata": {},
     "source": [
      "# Datatypes"
     ]
    },
    {
     "cell_type": "markdown",
     "metadata": {},
     "source": [
      "## Numeric Types: `int`, `long`, `float`, `complex`, `bool`\n",
      "* int: 32 bit\n",
      "* long: unlimited precision\n",
      "* float: 64 bit\n",
      "* complex: real float and imaginary float\n",
      "* bool: `True` and `False`\n"
     ]
    },
    {
     "cell_type": "code",
     "collapsed": true,
     "input": [
      "# The \"hash-mark\" indicates the start of a comment\n",
      "# Python automatically assigns the right type:\n",
      "\n",
      "a = 3 # Another Comment\n",
      "b = 1.1\n",
      "c = 4 + 6j\n",
      "print(type(a), type(b), type(c))"
     ],
     "language": "python",
     "metadata": {},
     "outputs": []
    },
    {
     "cell_type": "code",
     "collapsed": false,
     "input": [
      "# Mixing types in an arithmetic expression \n",
      "# will yield the \"wider\" type\n",
      "\n",
      "print(b * 5, type(b * 5))\n",
      "print (b + c, type(b + c))\n"
     ],
     "language": "python",
     "metadata": {},
     "outputs": []
    },
    {
     "cell_type": "markdown",
     "metadata": {},
     "source": [
      "** <span style=\"background-color:red;\">Integer division yields integer!</span>**\n",
      "* add decimal point, or\n",
      "* cast explicitly (eg. `float()`)"
     ]
    },
    {
     "cell_type": "code",
     "collapsed": false,
     "input": [
      "print(a / 4, a / 4.0, float(a) / 4)"
     ],
     "language": "python",
     "metadata": {},
     "outputs": []
    },
    {
     "cell_type": "code",
     "collapsed": false,
     "input": [
      "# The Boolean Type: `bool`\n",
      "test = 3 > 4\n",
      "tost = 5 != 9\n",
      "print(test, type(test))\n",
      "print(tost, type(tost))"
     ],
     "language": "python",
     "metadata": {},
     "outputs": []
    },
    {
     "cell_type": "code",
     "collapsed": false,
     "input": [
      "# More Information about numeric datatypes\n",
      "\n",
      "from IPython.display import HTML\n",
      "HTML('<iframe src=\"https://docs.python.org/2/library/stdtypes.html#numeric-types-int-float-long-complex\" width=700 height=350></iframe>')"
     ],
     "language": "python",
     "metadata": {},
     "outputs": []
    },
    {
     "cell_type": "markdown",
     "metadata": {},
     "source": [
      "## Strings"
     ]
    },
    {
     "cell_type": "markdown",
     "metadata": {},
     "source": [
      "* double quote (`\"`) and single quotes (`'`) are synonymous.\n",
      "* triple quotes (`'''`) preserve line endings.\n",
      "* the backslash (`\\`) is the escape-character. "
     ]
    },
    {
     "cell_type": "code",
     "collapsed": false,
     "input": [
      "s1 = 'He\\'s a lumberjack, and he\\'s okay.\\nHe sleeps all night and he works all day.'\n",
      "\n",
      "s2 = '''I cut down trees. I eat my lunch.\n",
      "I go to the lavatory.\n",
      "On Wednesdays I go shoppin'\n",
      "And have buttered scones for tea.'''\n",
      "\n",
      "print(s1)\n",
      "print\n",
      "print(s2)"
     ],
     "language": "python",
     "metadata": {},
     "outputs": []
    },
    {
     "cell_type": "markdown",
     "metadata": {},
     "source": [
      "* concatenate with \"`+`\"\n",
      "* format using `format()` - method"
     ]
    },
    {
     "cell_type": "code",
     "collapsed": false,
     "input": [
      "('{:.4f} is a {}'.format(pi,'float') + \n",
      "' and \"a = {}\" needs no formatting in excercise {:02d}.'.format(3.1,1))\n",
      "\n",
      "# Btw. : line-breaks inside brackets are implicitly continued"
     ],
     "language": "python",
     "metadata": {},
     "outputs": []
    },
    {
     "cell_type": "code",
     "collapsed": false,
     "input": [
      "# More on the format-specification\n",
      "from IPython.display import HTML\n",
      "HTML('<iframe src=\"https://docs.python.org/2/library/string.html#format-specification-mini-language\" width=700 height=350></iframe>')"
     ],
     "language": "python",
     "metadata": {},
     "outputs": []
    },
    {
     "cell_type": "markdown",
     "metadata": {},
     "source": [
      "* strings support *indexing*\n",
      "* and *slicing*"
     ]
    },
    {
     "cell_type": "code",
     "collapsed": false,
     "input": [
      "s = \"0123456789\"\n",
      "index0 = s[0]\n",
      "index9 = s[9]\n",
      "print(\"Index zero: {}, index nine: {}\".format(index0, index9))"
     ],
     "language": "python",
     "metadata": {},
     "outputs": []
    },
    {
     "cell_type": "markdown",
     "metadata": {},
     "source": [
      "**Note:**\n",
      "* <span style=\"background-color:red;\">Indices start with 0.</span> as in C, unlike Fortran, Matlab, R. \n",
      "* index `i` retuns the (`i+1`)st character."
     ]
    },
    {
     "cell_type": "code",
     "collapsed": false,
     "input": [
      "# Negative indices count from the end\n",
      "# Slice using \"[start:stop:step]\"\n",
      "# Any of \"start\", \"stop\", \"step\" can be omitted\n",
      "# They default to 0, len(string), 1, respectively\n",
      "s = \"0123456789\"\n",
      "print(s[-1], s[-2], s[0:2], s[0:9], s[0:10], s[:], s[:3], s[3:],s[::2])\n"
     ],
     "language": "python",
     "metadata": {},
     "outputs": []
    },
    {
     "cell_type": "markdown",
     "metadata": {},
     "source": [
      "**Note:** Strings are \"immutable\"\n"
     ]
    },
    {
     "cell_type": "code",
     "collapsed": false,
     "input": [
      "s = \"0123456789\"\n",
      "s[0] = 1"
     ],
     "language": "python",
     "metadata": {},
     "outputs": []
    },
    {
     "cell_type": "markdown",
     "metadata": {},
     "source": [
      "There are a largne number of string methods.<br />\n",
      "Examples:\n",
      "\n"
     ]
    },
    {
     "cell_type": "code",
     "collapsed": false,
     "input": [
      "'Py' in 'Python'"
     ],
     "language": "python",
     "metadata": {},
     "outputs": []
    },
    {
     "cell_type": "code",
     "collapsed": false,
     "input": [
      "'Python'.find('tho')"
     ],
     "language": "python",
     "metadata": {},
     "outputs": []
    },
    {
     "cell_type": "code",
     "collapsed": false,
     "input": [
      "s.isdigit()"
     ],
     "language": "python",
     "metadata": {},
     "outputs": []
    },
    {
     "cell_type": "code",
     "collapsed": false,
     "input": [
      "words = array(\"Words usually are obtained  by splitting at    whitespace\".split())\n",
      "nowords = \"Words usually are obtained  by splitting at    whitespace\".split('a')\n",
      "print(words)\n",
      "print(nowords)\n",
      "type(words)"
     ],
     "language": "python",
     "metadata": {},
     "outputs": []
    },
    {
     "cell_type": "code",
     "collapsed": false,
     "input": [
      "'_'.join(words)"
     ],
     "language": "python",
     "metadata": {},
     "outputs": []
    },
    {
     "cell_type": "markdown",
     "metadata": {},
     "source": [
      "**Ipython Trick**<br />\n",
      "Get a list of all available methods for an object by writing \"`objectname.`\" and hitting [TAB].<br />\n",
      "Try \"`words.`[TAB]\"\n",
      "Also \"`str.`[TAB]\""
     ]
    },
    {
     "cell_type": "code",
     "collapsed": false,
     "input": [],
     "language": "python",
     "metadata": {},
     "outputs": []
    },
    {
     "cell_type": "code",
     "collapsed": false,
     "input": [
      "# Documentation of string methods\n",
      "from IPython.display import HTML\n",
      "HTML('<iframe src=\"https://docs.python.org/2/library/stdtypes.html#string-methods\" width=700 height=350></iframe>')"
     ],
     "language": "python",
     "metadata": {},
     "outputs": []
    },
    {
     "cell_type": "code",
     "collapsed": false,
     "input": [],
     "language": "python",
     "metadata": {},
     "outputs": []
    },
    {
     "cell_type": "markdown",
     "metadata": {},
     "source": [
      "<center>\n",
      "<span style=\"background-color:gray;font-size:200%\">5 minutes to play with numeric types, strings and formatting</span>\n",
      "</center>"
     ]
    },
    {
     "cell_type": "code",
     "collapsed": false,
     "input": [],
     "language": "python",
     "metadata": {},
     "outputs": []
    },
    {
     "cell_type": "markdown",
     "metadata": {},
     "source": [
      " ## Lists\n",
      " * Lists are very powerful in Python.\n",
      " * Lists can contain any mixture of objects.\n",
      " * The list is an **ordered** container."
     ]
    },
    {
     "cell_type": "code",
     "collapsed": false,
     "input": [
      "L = ['red', 2, 'blue', 3, 'green', 9.9, 'black', 0.7, 'white', -5]\n",
      "type(L)"
     ],
     "language": "python",
     "metadata": {},
     "outputs": []
    },
    {
     "cell_type": "code",
     "collapsed": false,
     "input": [
      "# Indexing and slicing just as for strings\n",
      "\n",
      "print(L[0])\n",
      "print(L[-1:3:-1])"
     ],
     "language": "python",
     "metadata": {},
     "outputs": []
    },
    {
     "cell_type": "code",
     "collapsed": false,
     "input": [
      "# Reverse a list\n",
      "\n",
      "L[::-1]"
     ],
     "language": "python",
     "metadata": {},
     "outputs": []
    },
    {
     "cell_type": "markdown",
     "metadata": {},
     "source": [
      "**Note:**\n",
      "Lists are \"mutable\""
     ]
    },
    {
     "cell_type": "code",
     "collapsed": false,
     "input": [
      "L = ['red', 2, 'blue', 3, 'green', 9.9, 'black', 0.7, 'white', -5]\n",
      "L[2:6] = ['violet',4,'turquois',10.1]\n",
      "L"
     ],
     "language": "python",
     "metadata": {},
     "outputs": []
    },
    {
     "cell_type": "code",
     "collapsed": false,
     "input": [
      "# removing elements\n",
      "del(L[4:6])\n",
      "L"
     ],
     "language": "python",
     "metadata": {},
     "outputs": []
    },
    {
     "cell_type": "code",
     "collapsed": false,
     "input": [
      "# remove an get last element\n",
      "L = ['red', 2, 'blue', 3, 'green', 9.9, 'black', 0.7, 'white', -5]\n",
      "print(L)\n",
      "l1 = L.pop()\n",
      "print(l1)\n",
      "print(L)\n",
      "print(L.sort())"
     ],
     "language": "python",
     "metadata": {},
     "outputs": []
    },
    {
     "cell_type": "code",
     "collapsed": false,
     "input": [
      "# insert element at index\n",
      "L.insert(3,'between3, blue and 3')\n",
      "print(L)"
     ],
     "language": "python",
     "metadata": {},
     "outputs": []
    },
    {
     "cell_type": "code",
     "collapsed": false,
     "input": [
      "# append and extend\n",
      "L = ['red', 2, 'blue', 3, 'green', 9.9, 'black', 0.7, 'white', -5]\n",
      "print('original:{}'.format(L))\n",
      "L1 = [1,'other','list']\n",
      "L.append(L1)\n",
      "print('append: {}'.format(L))\n",
      "L.extend(L1)\n",
      "print('extend:{}'.format(L))\n",
      "L = L + L1\n",
      "print('concatenated: {}'.format(L))\n",
      "L.extend(L1)"
     ],
     "language": "python",
     "metadata": {},
     "outputs": []
    },
    {
     "cell_type": "markdown",
     "metadata": {},
     "source": [
      "** VERY USEFUL: List comprehension**\n",
      "* replaces one or multiple loops to apply functions to list elements\n",
      "* filter the list at the same time"
     ]
    },
    {
     "cell_type": "code",
     "collapsed": false,
     "input": [
      "x = range(0,10)\n",
      "# apply to each element\n",
      "x2 = [y**2 for y in x]                     \n",
      "# complicated functions can be applied\n",
      "x3 = [y/2.0 if y >= 25 else sqrt(y) for y in x2] \n",
      "# filter\n",
      "x4 = [y for y in x3 if y % 2 == 0]         \n",
      "print(x)\n",
      "print(x2)\n",
      "print(x3)\n",
      "print(x4)"
     ],
     "language": "python",
     "metadata": {},
     "outputs": []
    },
    {
     "cell_type": "markdown",
     "metadata": {},
     "source": [
      "## Tuples and Sets\n"
     ]
    },
    {
     "cell_type": "markdown",
     "metadata": {},
     "source": [
      "### Tuples\n",
      "* similar to lists,\n",
      "* but **immutable**"
     ]
    },
    {
     "cell_type": "code",
     "collapsed": false,
     "input": [
      "t = ('hello',1,'triple')\n",
      "print(type(t))\n",
      "t\n",
      "print(type([t]))"
     ],
     "language": "python",
     "metadata": {},
     "outputs": []
    },
    {
     "cell_type": "markdown",
     "metadata": {},
     "source": [
      "### Sets\n",
      "* unordered\n",
      "* mutable\n",
      "* **unique entries**"
     ]
    },
    {
     "cell_type": "code",
     "collapsed": false,
     "input": [
      "s = set((\"a\",4,\"b\",5))\n",
      "print(type(s))\n",
      "s1 = set((7,5,\"c\",\"b\",7,\"b\"))\n",
      "union = s | s1\n",
      "intersect = s & s1\n",
      "print(\"s1: {}\".format(s1))\n",
      "print(\"union: {}\".format(union))\n",
      "print(\"intersect: {}\").format(intersect)\n",
      "l1 = list(s1)\n",
      "print(l1)\n",
      "l1.sort()\n",
      "print(l1)"
     ],
     "language": "python",
     "metadata": {},
     "outputs": []
    },
    {
     "cell_type": "code",
     "collapsed": false,
     "input": [],
     "language": "python",
     "metadata": {},
     "outputs": []
    },
    {
     "cell_type": "markdown",
     "metadata": {},
     "source": [
      "<span style=\"background-color:grey\" # 5 Minutes to play with lists, sets and tuples</span>"
     ]
    },
    {
     "cell_type": "markdown",
     "metadata": {},
     "source": [
      "<center><span style=\"background-color:gray;font-size:200%\"> 5 minutes to play with lists, tuples and sets</span></center>"
     ]
    },
    {
     "cell_type": "code",
     "collapsed": false,
     "input": [],
     "language": "python",
     "metadata": {},
     "outputs": []
    },
    {
     "cell_type": "markdown",
     "metadata": {},
     "source": [
      " ## Dictionaries\n",
      " * A dictionary maps _keys_ to _values_\n",
      " * The dictionary is an **unordered** container\n",
      " * Use it to store and retrieve values associated with a name.\n",
      " * _Keys_ can be of any immutable datatype (e.g. numbers, strings)\n",
      " * _Values_ can be anything"
     ]
    },
    {
     "cell_type": "code",
     "collapsed": false,
     "input": [
      "numbers = { \"jack\": 04377465, \"john\": 97264384, \"ralph\":['+41 76 873274',937283] }\n",
      "print(type(numbers))\n",
      "numbers\n",
      "# Observe how Jack's number get interpreted (as octal)"
     ],
     "language": "python",
     "metadata": {},
     "outputs": []
    },
    {
     "cell_type": "code",
     "collapsed": false,
     "input": [
      "numbers = { \"jack\": 04377465, \"john\": 97264384, \"ralph\":['+41 76 873274',937283] }\n",
      "print(numbers)\n",
      "print(numbers[\"john\"])     # access by name\n",
      "print(numbers[\"ralph\"][0]) # concatenate accessors for contained objects\n",
      "numbers[\"jenny\"] = 9374    # add new entries\n",
      "del(numbers[\"jack\"])       # delete entries\n",
      "numbers\n"
     ],
     "language": "python",
     "metadata": {},
     "outputs": []
    },
    {
     "cell_type": "code",
     "collapsed": false,
     "input": [
      "# \"in\" and \"not in\" work for all containers\n",
      "print('ralph' in numbers)\n",
      "print('ralph' not in numbers)\n",
      "print(97264384 in numbers.values())\n",
      "[str(x) + 'MODIFIED' for x in numbers.values()]    "
     ],
     "language": "python",
     "metadata": {},
     "outputs": []
    },
    {
     "cell_type": "code",
     "collapsed": false,
     "input": [
      "# Another way to construct dictionaries:\n",
      "d = dict([(1,\"one\"), (2,\"two\"), (3,\"three\"), (4,\"four\")])\n",
      "d"
     ],
     "language": "python",
     "metadata": {},
     "outputs": []
    },
    {
     "cell_type": "code",
     "collapsed": false,
     "input": [
      "# From lists to dictionaries\n",
      "l1 = [\"These\",\"are\",\"words\",\"in\",\"a\",\"sentence\"]\n",
      "l2 = range(0,len(l1))\n",
      "# Note: \"len()\" gives the number of elements of any container type\n",
      "\n",
      "# zip creates a list of corresponding pairs of two lists with equal length\n",
      "pairs = zip(l1,l2) \n",
      "dicty = dict(pairs)\n",
      "\n",
      "print(\"l1 : {}\".format(l1))\n",
      "print(\"l2 : {}\".format(l2))\n",
      "print(\"pairs : {}\".format(pairs))\n",
      "print(\"dicty : {}\".format(dicty))"
     ],
     "language": "python",
     "metadata": {},
     "outputs": []
    },
    {
     "cell_type": "code",
     "collapsed": false,
     "input": [
      "# There are more dictionary methods\n",
      "from IPython.display import HTML\n",
      "HTML('<iframe src=\"https://docs.python.org/2/library/stdtypes.html#dict\" width=700 height=350></iframe>')"
     ],
     "language": "python",
     "metadata": {},
     "outputs": []
    },
    {
     "cell_type": "markdown",
     "metadata": {},
     "source": [
      "# Control-Flow"
     ]
    },
    {
     "cell_type": "markdown",
     "metadata": {},
     "source": [
      "# if - elif - else\n",
      "* just as you would expect"
     ]
    },
    {
     "cell_type": "code",
     "collapsed": false,
     "input": [
      "n = 23\n",
      "a = range(0,11)\n",
      "if n in a:\n",
      "    print(\"In\")\n",
      "elif n == 23:\n",
      "    print(\"Should be in\")\n",
      "else:\n",
      "    print(\"{} is a bad number.\".format(n))\n"
     ],
     "language": "python",
     "metadata": {},
     "outputs": []
    },
    {
     "cell_type": "markdown",
     "metadata": {},
     "source": [
      "* ** Blocks of code are identified by indentation (4 spaces)!**\n",
      "* ** This is a feature that tends to irritate beginners sometimes**\n",
      "* Get used to it and enjoy less bracket-cluttered code"
     ]
    },
    {
     "cell_type": "code",
     "collapsed": false,
     "input": [
      "# The \"ternary operator\"\n",
      "n = 2\n",
      "a = range(0,11)\n",
      "x = \"In\" if n in a else \"Bad number\"\n",
      "print(x)\n"
     ],
     "language": "python",
     "metadata": {},
     "outputs": []
    },
    {
     "cell_type": "markdown",
     "metadata": {},
     "source": [
      "## Iteration\n",
      "* nothing new here\n",
      "* \"break\" and \"continue\" work as expected"
     ]
    },
    {
     "cell_type": "code",
     "collapsed": false,
     "input": [
      "# for\n",
      "\n",
      "for i in range(20,31):\n",
      "    print(i**2),\n",
      "\n",
      "# Note: The comma at the end of the \"print\" statement suppress printing of a newline at the end. "
     ],
     "language": "python",
     "metadata": {},
     "outputs": []
    },
    {
     "cell_type": "code",
     "collapsed": false,
     "input": [
      "# while\n",
      "\n",
      "q = 10\n",
      "while q <= 900:\n",
      "    q += q*3\n",
      "    print(q),"
     ],
     "language": "python",
     "metadata": {},
     "outputs": []
    },
    {
     "cell_type": "markdown",
     "metadata": {},
     "source": [
      "** Reminder: Use list-comprehension if possible!**"
     ]
    },
    {
     "cell_type": "code",
     "collapsed": false,
     "input": [
      "# dict.iteritems()\n",
      "# iterating over keys *and* values of dictionaries\n",
      "\n",
      "d = dict([(1,\"one\"), (2,\"two\"), (3,\"three\"), (4,\"four\")])\n",
      "for k, v in d.iteritems():\n",
      "    print(\"Key: {}, Value: {}\".format(k, v))\n",
      "    \n",
      "# Note a tuple T (or list) on the right hand side of an assignment\n",
      "# can be directly assigned to len(T) individual variables on the left hand side.\n",
      "a, b, c, d = (1,2,3,4)\n",
      "print(a,b,c,d)"
     ],
     "language": "python",
     "metadata": {},
     "outputs": []
    },
    {
     "cell_type": "code",
     "collapsed": false,
     "input": [
      "# enumerate(list)\n",
      "# iterate over list and list-index at the same time\n",
      "\n",
      "l1 = [\"These\",\"are\",\"words\",\"in\",\"a\",\"sentence\"]\n",
      "for i, x in enumerate(l1):\n",
      "    print(\"Index = {}; Item = {}\".format(i,x))\n"
     ],
     "language": "python",
     "metadata": {},
     "outputs": []
    },
    {
     "cell_type": "code",
     "collapsed": false,
     "input": [],
     "language": "python",
     "metadata": {},
     "outputs": []
    },
    {
     "cell_type": "code",
     "collapsed": false,
     "input": [],
     "language": "python",
     "metadata": {},
     "outputs": []
    },
    {
     "cell_type": "markdown",
     "metadata": {},
     "source": [
      "# Functions\n",
      "* Functions are \"first-class-citizens\":<br />\n",
      "They can be passed as a parameter, returned from a function,<br />\n",
      "assigned to a variable, and put into containers.\n",
      "* The usual scope-rules apply: Local, Enclosing, Global, Builtin.\n",
      "* Functions can be nested in functions.\n"
     ]
    },
    {
     "cell_type": "code",
     "collapsed": false,
     "input": [
      "# Function definition\n",
      "\n",
      "def my_function(a, b, c):\n",
      "    print(a, b, c)\n",
      "    res = (a + b)**c\n",
      "    return(res)\n",
      "\n",
      "my_function(2, 3, 1.123)\n"
     ],
     "language": "python",
     "metadata": {},
     "outputs": []
    },
    {
     "cell_type": "markdown",
     "metadata": {},
     "source": [
      "There are required _positional-_ and optional _keyword-_ parameters (just like in R)"
     ]
    },
    {
     "cell_type": "code",
     "collapsed": false,
     "input": [
      "def my_func2(a, b, default=1):\n",
      "    print(a, b, default)\n",
      "    res = (a + b)**default\n",
      "    return(res)\n",
      "\n",
      "print(my_func2(2,3))\n",
      "print(my_func2(2, 3, 1.123))\n",
      "    \n",
      "    "
     ],
     "language": "python",
     "metadata": {},
     "outputs": []
    },
    {
     "cell_type": "markdown",
     "metadata": {},
     "source": [
      "<center><span style=\"background-color:gray;font-size:200%\"> 5 minutes to play with dictionaries, control-flow and functions</span></center>"
     ]
    },
    {
     "cell_type": "markdown",
     "metadata": {},
     "source": [
      "# A little exercise\n",
      "In the next session, we need several files from the ERA-Interim reanalysis dataset.<br />\n",
      "Write a function that takes year, month, startday, and endday as parameters, and returns\n",
      "list a of corresponding Z-level filenames (with absolute paths).\n",
      "The input parameters have to be numeric (not string)."
     ]
    },
    {
     "cell_type": "code",
     "collapsed": false,
     "input": [
      "# The path to erainterim\n",
      "root = '../ex3/files'\n",
      "\n",
      "# below that directory the path is <year>/<month>/.\n",
      "# <year> has values from 1979 - 2014, <month> from 01 - 12.\n",
      "# Under the <month> directory is a large number of files.\n",
      "# The Z-files have the form:\n",
      "# Z<year><month><day>_hour\n",
      "# For example:\n",
      "# <root>/2010/09/Z20100903_18\n",
      "# refers to Sept. 3, 2010, 18:00h"
     ],
     "language": "python",
     "metadata": {},
     "outputs": []
    },
    {
     "cell_type": "code",
     "collapsed": false,
     "input": [
      "# helpful modules\n",
      "import os.path\n",
      "import glob\n",
      "\n",
      "# example parameters\n",
      "startday = 5\n",
      "endday = 10\n",
      "month = 10\n",
      "year = 2011\n",
      "\n",
      "# your function here:\n",
      "\n",
      "\n",
      "\n",
      "\n",
      "files = get_zfile(startday, endday, month, year)\n",
      "print(files)\n"
     ],
     "language": "python",
     "metadata": {},
     "outputs": []
    },
    {
     "cell_type": "code",
     "collapsed": false,
     "input": [],
     "language": "python",
     "metadata": {},
     "outputs": []
    }
   ],
   "metadata": {}
  }
 ]
}