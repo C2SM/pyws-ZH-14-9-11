{
 "metadata": {
  "name": "",
  "signature": "sha256:af7004489d2b7af63539febde31f54c14f0261bccfd9151e55d082d49266f0f8"
 },
 "nbformat": 3,
 "nbformat_minor": 0,
 "worksheets": [
  {
   "cells": [
    {
     "cell_type": "markdown",
     "metadata": {},
     "source": [
      "# A little exercise\n",
      "In the next session, we need several files from the ERA-Interim reanalysis dataset.<br />\n",
      "Write a function that takes year, month, startday, and endday as parameters, and returns\n",
      "list a of corresponding Z-level filenames (with absolute paths).\n",
      "The input parameters have to be numeric (not string)."
     ]
    },
    {
     "cell_type": "code",
     "collapsed": false,
     "input": [
      "# The path to erainterim\n",
      "root = '/net/atmos/data/erainterim/cdf'\n",
      "\n",
      "# below that directory the path is <year>/<month>/.\n",
      "# <year> has values from 1979 - 2014, <month> from 01 - 12.\n",
      "# Under the <month> directory is a large number of files.\n",
      "# The Z-files have the form:\n",
      "# Z<year><month><day>_hour\n",
      "# For example:\n",
      "# <root>/2010/09/Z20100903_18\n",
      "# refers to Sept. 3, 2010, 18:00h"
     ],
     "language": "python",
     "metadata": {},
     "outputs": [],
     "prompt_number": 2
    },
    {
     "cell_type": "code",
     "collapsed": false,
     "input": [
      "# helpful modules\n",
      "import os.path\n",
      "import glob\n",
      "\n",
      "# example parameters\n",
      "startday = 3\n",
      "endday = 8\n",
      "month = 9\n",
      "year = 2010\n",
      "\n",
      "# your function here:\n",
      "def get_zfile(startday, endday, month, year):\n",
      "    \n",
      "    path = os.path.join(root,str(year),\"{:02d}\".format(month))\n",
      "    filenames = []\n",
      "    for day in range(startday, endday + 1):\n",
      "        fn1 = \"Z{}{:02d}{:02d}*\".format(year,month,day)\n",
      "        filenames = filenames + glob.glob(os.path.join(path, fn1))\n",
      "        #print(filenames)\n",
      "    filenames.sort()\n",
      "    return(filenames)\n",
      "\n",
      "files = get_zfile(startday, endday, month, year)\n",
      "print(files)\n"
     ],
     "language": "python",
     "metadata": {},
     "outputs": [
      {
       "output_type": "stream",
       "stream": "stdout",
       "text": [
        "['/net/atmos/data/erainterim/cdf/2010/09/Z20100903_00', '/net/atmos/data/erainterim/cdf/2010/09/Z20100903_06', '/net/atmos/data/erainterim/cdf/2010/09/Z20100903_12', '/net/atmos/data/erainterim/cdf/2010/09/Z20100903_18', '/net/atmos/data/erainterim/cdf/2010/09/Z20100904_00', '/net/atmos/data/erainterim/cdf/2010/09/Z20100904_06', '/net/atmos/data/erainterim/cdf/2010/09/Z20100904_12', '/net/atmos/data/erainterim/cdf/2010/09/Z20100904_18', '/net/atmos/data/erainterim/cdf/2010/09/Z20100905_00', '/net/atmos/data/erainterim/cdf/2010/09/Z20100905_06', '/net/atmos/data/erainterim/cdf/2010/09/Z20100905_12', '/net/atmos/data/erainterim/cdf/2010/09/Z20100905_18', '/net/atmos/data/erainterim/cdf/2010/09/Z20100906_00', '/net/atmos/data/erainterim/cdf/2010/09/Z20100906_06', '/net/atmos/data/erainterim/cdf/2010/09/Z20100906_12', '/net/atmos/data/erainterim/cdf/2010/09/Z20100906_18', '/net/atmos/data/erainterim/cdf/2010/09/Z20100907_00', '/net/atmos/data/erainterim/cdf/2010/09/Z20100907_06', '/net/atmos/data/erainterim/cdf/2010/09/Z20100907_12', '/net/atmos/data/erainterim/cdf/2010/09/Z20100907_18', '/net/atmos/data/erainterim/cdf/2010/09/Z20100908_00', '/net/atmos/data/erainterim/cdf/2010/09/Z20100908_06', '/net/atmos/data/erainterim/cdf/2010/09/Z20100908_12', '/net/atmos/data/erainterim/cdf/2010/09/Z20100908_18']\n"
       ]
      }
     ],
     "prompt_number": 3
    },
    {
     "cell_type": "code",
     "collapsed": false,
     "input": [],
     "language": "python",
     "metadata": {},
     "outputs": []
    }
   ],
   "metadata": {}
  }
 ]
}