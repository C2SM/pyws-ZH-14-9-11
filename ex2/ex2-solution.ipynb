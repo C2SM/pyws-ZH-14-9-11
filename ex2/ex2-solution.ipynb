{
 "metadata": {
  "name": "",
  "signature": "sha256:15015d5cecf2f2030555ecf7f5139c276dfd820dc9181b47d597e97577c43f11"
 },
 "nbformat": 3,
 "nbformat_minor": 0,
 "worksheets": [
  {
   "cells": [
    {
     "cell_type": "markdown",
     "metadata": {},
     "source": [
      "# A little exercise\n",
      "In the next session, we need several files from the ERA-Interim reanalysis dataset.<br />\n",
      "Write a function that takes year, month, startday, and endday as parameters, and returns\n",
      "list a of corresponding Z-level filenames (with absolute paths).\n",
      "The input parameters have to be numeric (not string)."
     ]
    },
    {
     "cell_type": "code",
     "collapsed": false,
     "input": [
      "# The path to erainterim\n",
      "root = '../ex3/files'\n",
      "\n",
      "# below that directory the path is <year>/<month>/.\n",
      "# <year> has values from 1979 - 2014, <month> from 01 - 12.\n",
      "# Under the <month> directory is a large number of files.\n",
      "# The Z-files have the form:\n",
      "# Z<year><month><day>_hour\n",
      "# For example:\n",
      "# <root>/2010/09/Z20100903_18\n",
      "# refers to Sept. 3, 2010, 18:00h"
     ],
     "language": "python",
     "metadata": {},
     "outputs": [],
     "prompt_number": 1
    },
    {
     "cell_type": "code",
     "collapsed": false,
     "input": [
      "# helpful modules\n",
      "import os.path\n",
      "import glob\n",
      "\n",
      "# example parameters\n",
      "startday = 3\n",
      "endday = 8\n",
      "month = 9\n",
      "year = 2010\n",
      "\n",
      "# your function here:\n",
      "def get_zfile(startday, endday, month, year):\n",
      "    \n",
      "    path = os.path.join(root,str(year),\"{:02d}\".format(month))\n",
      "    print(path)\n",
      "    filenames = []\n",
      "    for day in range(startday, endday + 1):\n",
      "        fn1 = \"Z{}{:02d}{:02d}*\".format(year,month,day)\n",
      "        print(fn1)\n",
      "        filenames = filenames + glob.glob(os.path.join(path, fn1))\n",
      "        print(filenames)\n",
      "    filenames.sort()\n",
      "    return(filenames)\n",
      "\n",
      "files = get_zfile(startday, endday, month, year)\n",
      "print(files)\n"
     ],
     "language": "python",
     "metadata": {},
     "outputs": [
      {
       "output_type": "stream",
       "stream": "stdout",
       "text": [
        "../ex3/files/2010/09\n",
        "Z20100903*\n",
        "[]\n",
        "Z20100904*\n",
        "[]\n",
        "Z20100905*\n",
        "[]\n",
        "Z20100906*\n",
        "[]\n",
        "Z20100907*\n",
        "[]\n",
        "Z20100908*\n",
        "[]\n",
        "[]\n"
       ]
      }
     ],
     "prompt_number": 9
    },
    {
     "cell_type": "code",
     "collapsed": false,
     "input": [
      "!ls ../ex3/files/2010/09\n"
     ],
     "language": "python",
     "metadata": {},
     "outputs": [
      {
       "output_type": "stream",
       "stream": "stdout",
       "text": [
        "5Ns6v4pQpOKU  nOYekr2h4do2  UT13XRi7Dlap  Z20111006_18\tZ20111009_00\r\n",
        "dfO5ftnSHoCV  oEnBio8p2tM3  VAq25E9VcQBY  Z20111007_00\tZ20111009_06\r\n",
        "EJStIx35Yobp  qvN0QZE1ByWb  Z20111005_00  Z20111007_06\tZ20111009_12\r\n",
        "fQwXcLRVVsnL  Qx9CnZH8anfo  Z20111005_06  Z20111007_12\tZ20111009_18\r\n",
        "Gdn2DflhhlOD  rN9eVBRIXXku  Z20111005_12  Z20111007_18\tZ20111010_00\r\n",
        "jtcSz64UCSH8  s1BFmhbTrtds  Z20111005_18  Z20111008_00\tZ20111010_06\r\n",
        "kmmuhFUH1oXX  SC8kakLr4Zgf  Z20111006_00  Z20111008_06\tZ20111010_12\r\n",
        "KtYWJtPjldrf  tfYtYgh7kFPe  Z20111006_06  Z20111008_12\r\n",
        "lhBNOpmxCwIT  udeUgZAIqlFv  Z20111006_12  Z20111008_18\r\n"
       ]
      }
     ],
     "prompt_number": 7
    }
   ],
   "metadata": {}
  }
 ]
}