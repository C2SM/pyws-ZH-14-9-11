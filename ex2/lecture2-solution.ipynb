{
 "metadata": {
  "name": "",
  "signature": "sha256:12550297f8a50025b09d3187cb7e2f6d5a8bb198424ec7eef91e391553129dc2"
 },
 "nbformat": 3,
 "nbformat_minor": 0,
 "worksheets": [
  {
   "cells": [
    {
     "cell_type": "markdown",
     "metadata": {},
     "source": [
      "# A little exercise\n",
      "In the next session, we need several files from the ERA-Interim reanalysis dataset.<br />\n",
      "Write a function that takes year, month, startday, and endday as parameters, and returns\n",
      "list a of corresponding Z-level filenames (with absolute paths).\n",
      "The input parameters have to be numeric (not string)."
     ]
    },
    {
     "cell_type": "code",
     "collapsed": false,
     "input": [
      "# The path to erainterim\n",
      "root = '../ex3/files'\n",
      "\n",
      "# below that directory the path is <year>/<month>/.\n",
      "# <year> has values from 1979 - 2014, <month> from 01 - 12.\n",
      "# Under the <month> directory is a large number of files.\n",
      "# The Z-files have the form:\n",
      "# Z<year><month><day>_hour\n",
      "# For example:\n",
      "# <root>/2011/10/Z20111005_18\n",
      "# refers to Oct. 5, 2011, 18:00h"
     ],
     "language": "python",
     "metadata": {},
     "outputs": []
    },
    {
     "cell_type": "code",
     "collapsed": false,
     "input": [
      "# helpful modules\n",
      "import os.path\n",
      "import glob\n",
      "\n",
      "# example parameters\n",
      "startday = 5\n",
      "endday = 10\n",
      "month = 10\n",
      "year = 2011\n",
      "\n",
      "# your function here:\n",
      "def get_zfile(startday, endday, month, year):\n",
      "    \n",
      "    path = os.path.join(root,str(year),\"{:02d}\".format(month))\n",
      "    filenames = []\n",
      "    for day in range(startday, endday + 1):\n",
      "        fn1 = \"Z{}{:02d}{:02d}*\".format(year,month,day)\n",
      "        filenames = filenames + glob.glob(os.path.join(path, fn1))\n",
      "    filenames.sort()\n",
      "    return(filenames)\n",
      "\n",
      "files = get_zfile(startday, endday, month, year)\n",
      "print(files)\n"
     ],
     "language": "python",
     "metadata": {},
     "outputs": []
    }
   ],
   "metadata": {}
  }
 ]
}