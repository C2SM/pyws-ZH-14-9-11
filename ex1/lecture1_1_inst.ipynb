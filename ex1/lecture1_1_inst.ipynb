{
 "metadata": {
  "name": "",
  "signature": "sha256:cb957d287135bdf91acd2f283f5b63b6f05640083af02be6a663dfc33586e280"
 },
 "nbformat": 3,
 "nbformat_minor": 0,
 "worksheets": [
  {
   "cells": [
    {
     "cell_type": "markdown",
     "metadata": {},
     "source": [
      "# The IPython Notebook\n",
      "\n",
      "## Learning Objectives\n",
      "\n",
      "+ Understand the user interface (Take a tour)\n",
      "+ Understand the modal system of keyboard commands\n",
      "+ Create, run, delete, split, cut, paste and navigate cells\n",
      "+ Use operating system commands\n",
      "+ Use Markdown- and Code-cells\n",
      "+ Help functionality and TAB-completion\n",
      "+ Display plots, LaTeX, pictures, rich media, remote content "
     ]
    },
    {
     "cell_type": "markdown",
     "metadata": {},
     "source": [
      "## Modal editor\n",
      "Starting with IPython 2.0, the IPython Notebook has a modal user interface. This means that the keyboard does different things depending on which mode the Notebook is in. There are two modes: edit mode and command mode."
     ]
    },
    {
     "cell_type": "markdown",
     "metadata": {},
     "source": [
      "### Edit mode\n",
      "Edit mode is indicated by a green cell border and a prompt showing in the editor area.\n",
      "\n",
      "When a cell is in edit mode, you can type into the cell, like a normal text editor.\n",
      "<div class=\"alert alert-success\" style=\"margin: 10px\">\n",
      "Enter edit mode by pressing `enter` or using the mouse to click on a cell's editor area.\n",
      "</div>"
     ]
    },
    {
     "cell_type": "markdown",
     "metadata": {},
     "source": [
      "### Command mode\n",
      "\n",
      "Command mode is indicated by a grey cell border.\n",
      "\n",
      "When you are in command mode, you are able to edit the notebook as a whole, but not type into individual cells. Most importantly, in command mode, the keyboard is mapped to a set of shortcuts that let you perform notebook and cell actions efficiently. For example, if you are in command mode and you press `c`, you will copy the current cell - no modifier is needed.\n",
      "\n",
      "<div class=\"alert alert-error\" style=\"margin: 10px\">\n",
      "Don't try to type into a cell in command mode; unexpected things will happen!\n",
      "</div>\n",
      "\n",
      "<div class=\"alert alert-success\" style=\"margin: 10px\">\n",
      "Enter command mode by pressing `esc` or using the mouse to click *outside* a cell's editor area.\n",
      "\n",
      "</div>"
     ]
    },
    {
     "cell_type": "markdown",
     "metadata": {},
     "source": [
      "**Start with these command mode shortcuts:**\n",
      "\n",
      "1. Basic navigation: `enter`, `shift-enter`, `up/k`, `down/j`\n",
      "2. Saving the notebook: `s`\n",
      "3. Cell creation and movement: `a`, `b`, `ctrl+k`, `ctrl+j`\n",
      "4. Cell editing: `x`, `c`, `v`, `d`, `z`, `shift-m`\n",
      "5. Cell types: `y`, `m`, `1-6`\n",
      "6. Kernel operations: `i`, `0`"
     ]
    },
    {
     "cell_type": "markdown",
     "metadata": {},
     "source": [
      "## Exercise 1.1\n",
      "\n",
      "Use these commands to modify and edit above cells, and subsequently repair the damage you caused. Try out all commands."
     ]
    },
    {
     "cell_type": "markdown",
     "metadata": {},
     "source": [
      "## Deal with the filesystem\n",
      "\n",
      "Bash commands can be executed by prefixing the command with an excamation mark (!).     \n",
      "E.g.\n",
      "~~~~ipython\n",
      "!pwd\n",
      "~~~~\n",
      "will show the current working directory.\n",
      "\n",
      "\n"
     ]
    },
    {
     "cell_type": "code",
     "collapsed": false,
     "input": [
      "!ncdump -h data/quantmap_0.80.nc"
     ],
     "language": "python",
     "metadata": {},
     "outputs": [
      {
       "output_type": "stream",
       "stream": "stdout",
       "text": [
        "/usr/bin/sh: ncdump: command not found\r\n"
       ]
      }
     ],
     "prompt_number": 34
    },
    {
     "cell_type": "markdown",
     "metadata": {},
     "source": [
      "## Exercise 1.2\n",
      "\n",
      "Have a look around using at least\n",
      "+ `pwd`\n",
      "+ `ls`\n",
      "+ `uname -a`\n",
      "+ `hostname`"
     ]
    },
    {
     "cell_type": "markdown",
     "metadata": {},
     "source": [
      "## Code- and Markdown-Cells and Rich Content\n",
      "\n",
      "So far you have only seen Markdown cells. Markdown is a human readable and typable simplification of HTML that gets translated into HTML. The formatting syntax is extremely simple. You also can mix with HTML:<br>\n",
      "<a href=\"http://daringfireball.net/projects/markdown/syntax\">like this</a>. But Markdown is [simpler](http://daringfireball.net/projects/markdown/syntax)."
     ]
    },
    {
     "cell_type": "markdown",
     "metadata": {},
     "source": [
      "**Render $\\LaTeX$:**\n",
      "$$\\int_0^\\infty e^{-x^2} dx=\\frac{\\sqrt{\\pi}}{2}$$\n",
      "$$\n",
      "F(x,y)=0 ~~\\mbox{and}~~\n",
      "\\left| \\begin{array}{ccc}\n",
      "  F''_{xx} & F''_{xy} &  F'_x \\\\\n",
      "  F''_{yx} & F''_{yy} &  F'_y \\\\\n",
      "  F'_x     & F'_y     & 0 \n",
      "  \\end{array}\\right| = 0\n",
      "$$"
     ]
    },
    {
     "cell_type": "code",
     "collapsed": false,
     "input": [
      "# You first code cell\n",
      "# Hashmarks are comments in Python\n",
      "\n",
      "print(\"Type a line and execute the cell\")\n",
      "a = 'A string '\n",
      "b = 'and another string'\n",
      "print(a + b + ' are concatenated by \"+.\"')"
     ],
     "language": "python",
     "metadata": {},
     "outputs": [
      {
       "output_type": "stream",
       "stream": "stdout",
       "text": [
        "Type a line and execute the cell\n",
        "A string and another string are concatenated by \"+.\"\n"
       ]
      }
     ],
     "prompt_number": 3
    },
    {
     "cell_type": "code",
     "collapsed": false,
     "input": [
      "# A scientific calculator\n",
      "\n",
      "a = 3 + 5**2/8\n",
      "print(a)\n",
      "print(\"hmmmm ....\")\n",
      "b = 3 + 5.**2/8\n",
      "print(b)\n",
      "\n",
      "print(\"Types of a and b are {} and {}, respectively.\".format(type(a), type(b)))"
     ],
     "language": "python",
     "metadata": {},
     "outputs": [
      {
       "output_type": "stream",
       "stream": "stdout",
       "text": [
        "6\n",
        "hmmmm ....\n",
        "6.125\n",
        "Types of a and b are <type 'int'> and <type 'float'>, respectively.\n"
       ]
      }
     ],
     "prompt_number": 4
    },
    {
     "cell_type": "code",
     "collapsed": false,
     "input": [
      "# load the basic array & math library\n",
      "import numpy as np\n",
      "# load \n",
      "from matplotlib import pyplot as plt\n",
      "\n",
      "x = np.arange(0, 3*np.pi, 0.1)\n",
      "plt.plot(x, np.sin(x**2))\n"
     ],
     "language": "python",
     "metadata": {},
     "outputs": [
      {
       "metadata": {},
       "output_type": "pyout",
       "prompt_number": 10,
       "text": [
        "[<matplotlib.lines.Line2D at 0x7f1a69ec1550>]"
       ]
      },
      {
       "metadata": {},
       "output_type": "display_data",
       "png": "[encoded data removed]",
       "text": [
        "<matplotlib.figure.Figure at 0x7f1a69ee3ed0>"
       ]
      }
     ],
     "prompt_number": 10
    },
    {
     "cell_type": "markdown",
     "metadata": {},
     "source": [
      "Note: You can resize the plot with the mouse (lower right corner)"
     ]
    },
    {
     "cell_type": "markdown",
     "metadata": {},
     "source": [
      "## TAB-Completion and Help\n",
      "1. hit [TAB] in edit mode to get command completion\n",
      "2. prefix an object with a question mark to learn more about it\n",
      "3. use the `help(command)` function"
     ]
    },
    {
     "cell_type": "markdown",
     "metadata": {},
     "source": [
      "## Exercise 1.3\n",
      "1. Make a figure that looks like this:    \n",
      "    Hint: Get help for the plot command inside the Notebook.\n",
      "   ![Three lines plot](figures/exercise1_3.png)\n",
      "    \n",
      "2. Have a look at the [matplotlib gallery](http://matplotlib.org/gallery.html) and find something to play with. "
     ]
    },
    {
     "cell_type": "markdown",
     "metadata": {},
     "source": [
      "## Other content\n",
      "**Look a video!!**\n"
     ]
    },
    {
     "cell_type": "code",
     "collapsed": false,
     "input": [
      "import IPython.display as disp\n",
      "disp.YouTubeVideo(\"u68E3SubjFY\")"
     ],
     "language": "python",
     "metadata": {},
     "outputs": [
      {
       "html": [
        "\n",
        "        <iframe\n",
        "            width=\"400\"\n",
        "            height=300\"\n",
        "            src=\"https://www.youtube.com/embed/u68E3SubjFY\"\n",
        "            frameborder=\"0\"\n",
        "            allowfullscreen\n",
        "        ></iframe>\n",
        "        "
       ],
       "metadata": {},
       "output_type": "pyout",
       "prompt_number": 18,
       "text": [
        "<IPython.lib.display.YouTubeVideo at 0x7f1a69ec8c90>"
       ]
      }
     ],
     "prompt_number": 18
    },
    {
     "cell_type": "markdown",
     "metadata": {},
     "source": [
      "## Exercise 1.4\n",
      "\n",
      "1. Find out which method in `disp` can be used to embed remote images (Hint: use [TAB]).\n",
      "2. Embed an image of your choice. E.g. `http://imgs.xkcd.com/comics/4_5_degrees.png`"
     ]
    },
    {
     "cell_type": "code",
     "collapsed": false,
     "input": [
      "disp.Image(url=\"http://imgs.xkcd.com/comics/4_5_degrees.png\")\n"
     ],
     "language": "python",
     "metadata": {},
     "outputs": [
      {
       "html": [
        "<img src=\"http://imgs.xkcd.com/comics/4_5_degrees.png\"/>"
       ],
       "metadata": {},
       "output_type": "pyout",
       "prompt_number": 33,
       "text": [
        "<IPython.core.display.Image at 0x7f1a6847cad0>"
       ]
      }
     ],
     "prompt_number": 33
    }
   ],
   "metadata": {}
  }
 ]
}