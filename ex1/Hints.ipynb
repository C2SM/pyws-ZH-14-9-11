{
 "metadata": {
  "name": "",
  "signature": "sha256:041812e826a1c0b93e975f2c8c335946d2a97387472a307c27d49a8ff5ae2561"
 },
 "nbformat": 3,
 "nbformat_minor": 0,
 "worksheets": [
  {
   "cells": [
    {
     "cell_type": "heading",
     "level": 1,
     "metadata": {},
     "source": [
      "Press Shift-TAB (multiple times) to get the full docstring of a function"
     ]
    },
    {
     "cell_type": "code",
     "collapsed": false,
     "input": [
      "\n",
      "\n",
      "range()"
     ],
     "language": "python",
     "metadata": {},
     "outputs": []
    }
   ],
   "metadata": {}
  }
 ]
}