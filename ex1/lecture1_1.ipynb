{
 "metadata": {
  "name": "",
  "signature": "sha256:29e22773a9bd6ba2409b98b75b6a42aba374dda50b0b6fa199ae155a55912c53"
 },
 "nbformat": 3,
 "nbformat_minor": 0,
 "worksheets": [
  {
   "cells": [
    {
     "cell_type": "markdown",
     "metadata": {},
     "source": [
      "# The IPython Notebook\n",
      "\n",
      "## Learning Objectives\n",
      "\n",
      "+ Understand the user interface (Take a tour)\n",
      "+ Understand the modal system of keyboard commands\n",
      "+ Create, run, delete, split, cut, paste and navigate cells\n",
      "+ Use operating system commands\n",
      "+ Use Markdown- and Code-cells\n",
      "+ Help functionality and TAB-completion\n",
      "+ Display plots, LaTeX, pictures, rich media, remote content "
     ]
    },
    {
     "cell_type": "markdown",
     "metadata": {},
     "source": [
      "## Modal editor\n",
      "Starting with IPython 2.0, the IPython Notebook has a modal user interface. This means that the keyboard does different things depending on which mode the Notebook is in. There are two modes: edit mode and command mode."
     ]
    },
    {
     "cell_type": "markdown",
     "metadata": {},
     "source": [
      "### Edit mode\n",
      "Edit mode is indicated by a green cell border and a prompt showing in the editor area.\n",
      "\n",
      "When a cell is in edit mode, you can type into the cell, like a normal text editor.\n",
      "<div class=\"alert alert-success\" style=\"margin: 10px\">\n",
      "Enter edit mode by pressing `enter` or using the mouse to click on a cell's editor area.\n",
      "</div>"
     ]
    },
    {
     "cell_type": "markdown",
     "metadata": {},
     "source": [
      "### Command mode\n",
      "\n",
      "Command mode is indicated by a grey cell border.\n",
      "\n",
      "When you are in command mode, you are able to edit the notebook as a whole, but not type into individual cells. Most importantly, in command mode, the keyboard is mapped to a set of shortcuts that let you perform notebook and cell actions efficiently. For example, if you are in command mode and you press `c`, you will copy the current cell - no modifier is needed.\n",
      "\n",
      "<div class=\"alert alert-error\" style=\"margin: 10px\">\n",
      "Don't try to type into a cell in command mode; unexpected things will happen!\n",
      "</div>\n",
      "\n",
      "<div class=\"alert alert-success\" style=\"margin: 10px\">\n",
      "Enter command mode by pressing `esc` or using the mouse to click *outside* a cell's editor area.\n",
      "\n",
      "</div>"
     ]
    },
    {
     "cell_type": "markdown",
     "metadata": {},
     "source": [
      "**Start with these command mode shortcuts:**\n",
      "\n",
      "1. Basic navigation: `enter`, `shift-enter`, `up/k`, `down/j`\n",
      "2. Saving the notebook: `s`\n",
      "3. Cell creation and movement: `a`, `b`, `ctrl+k`, `ctrl+j`\n",
      "4. Cell editing: `x`, `c`, `v`, `d`, `z`, `shift-m`\n",
      "5. Cell types: `y`, `m`, `1-6`\n",
      "6. Kernel operations: `i`, `0`"
     ]
    },
    {
     "cell_type": "markdown",
     "metadata": {},
     "source": [
      "## Exercise 1.1\n",
      "\n",
      "Use these commands to modify and edit above cells, and subsequently repair the damage you caused. Try out all commands."
     ]
    },
    {
     "cell_type": "markdown",
     "metadata": {},
     "source": [
      "## Deal with the filesystem\n",
      "\n",
      "Bash commands can be executed by prefixing the command with an excamation mark (!).     \n",
      "E.g.\n",
      "~~~~ipython\n",
      "!pwd\n",
      "~~~~\n",
      "will show the current working directory.\n",
      "\n",
      "\n"
     ]
    },
    {
     "cell_type": "code",
     "collapsed": false,
     "input": [
      "# look inside a netcdf-file\n"
     ],
     "language": "python",
     "metadata": {},
     "outputs": [],
     "prompt_number": 4
    },
    {
     "cell_type": "markdown",
     "metadata": {},
     "source": [
      "## Exercise 1.2\n",
      "\n",
      "Have a look around using at least\n",
      "+ `pwd`\n",
      "+ `ls`\n",
      "+ `uname -a`\n",
      "+ `hostname`"
     ]
    },
    {
     "cell_type": "markdown",
     "metadata": {},
     "source": [
      "## Code- and Markdown-Cells and Rich Content\n",
      "\n",
      "So far you have only seen Markdown cells. Markdown is a human readable and typable simplification of HTML that gets translated into HTML. The formatting syntax is extremely simple. You also can mix with HTML:<br>\n",
      "<a href=\"http://daringfireball.net/projects/markdown/syntax\">like this</a>. But Markdown is [simpler](http://daringfireball.net/projects/markdown/syntax)."
     ]
    },
    {
     "cell_type": "markdown",
     "metadata": {},
     "source": [
      "**Render $\\LaTeX$:**\n",
      "$$\\int_0^\\infty e^{-x^2} dx=\\frac{\\sqrt{\\pi}}{2}$$\n",
      "$$\n",
      "F(x,y)=0 ~~\\mbox{and}~~\n",
      "\\left| \\begin{array}{ccc}\n",
      "  F''_{xx} & F''_{xy} &  F'_x \\\\\n",
      "  F''_{yx} & F''_{yy} &  F'_y \\\\\n",
      "  F'_x     & F'_y     & 0 \n",
      "  \\end{array}\\right| = 0\n",
      "$$"
     ]
    },
    {
     "cell_type": "code",
     "collapsed": false,
     "input": [
      "# You first code cell\n",
      "# Hashmarks are comments in Python\n",
      "\n"
     ],
     "language": "python",
     "metadata": {},
     "outputs": [],
     "prompt_number": 1
    },
    {
     "cell_type": "code",
     "collapsed": false,
     "input": [
      "# A scientific calculator\n",
      "\n"
     ],
     "language": "python",
     "metadata": {},
     "outputs": [],
     "prompt_number": 2
    },
    {
     "cell_type": "code",
     "collapsed": false,
     "input": [
      "# load the basic array & math library\n",
      "\n",
      "# load plotting environment\n",
      "\n",
      "\n"
     ],
     "language": "python",
     "metadata": {},
     "outputs": [],
     "prompt_number": 3
    },
    {
     "cell_type": "markdown",
     "metadata": {},
     "source": [
      "Note: You can resize the plot with the mouse (lower right corner)"
     ]
    },
    {
     "cell_type": "markdown",
     "metadata": {},
     "source": [
      "## TAB-Completion and Help\n",
      "1. hit [TAB] in edit mode to get command completion\n",
      "2. prefix an object with a question mark to learn more about it\n",
      "3. use the `help(command)` function"
     ]
    },
    {
     "cell_type": "markdown",
     "metadata": {},
     "source": [
      "## Exercise 1.3\n",
      "1. Make a figure that looks like this:    \n",
      "    Hint: Get help for the plot command inside the Notebook.\n",
      "   ![Three lines plot](figures/exercise1_3.png)\n",
      "    \n",
      "2. Have a look at the [matplotlib gallery](http://matplotlib.org/gallery.html) and find something to play with. "
     ]
    },
    {
     "cell_type": "markdown",
     "metadata": {},
     "source": [
      "## Other content\n",
      "**Look a video!!**\n"
     ]
    },
    {
     "cell_type": "code",
     "collapsed": false,
     "input": [],
     "language": "python",
     "metadata": {},
     "outputs": [],
     "prompt_number": 3
    },
    {
     "cell_type": "markdown",
     "metadata": {},
     "source": [
      "## Exercise 1.4\n",
      "\n",
      "1. Find out which method in `disp` can be used to embed remote images (Hint: use [TAB]).\n",
      "2. Embed an image of your choice. E.g. `http://imgs.xkcd.com/comics/4_5_degrees.png`"
     ]
    },
    {
     "cell_type": "code",
     "collapsed": false,
     "input": [
      "\n"
     ],
     "language": "python",
     "metadata": {},
     "outputs": [],
     "prompt_number": 3
    }
   ],
   "metadata": {}
  }
 ]
}