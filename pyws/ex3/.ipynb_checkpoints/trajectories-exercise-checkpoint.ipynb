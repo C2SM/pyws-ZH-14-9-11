{
 "metadata": {
  "name": "",
  "signature": "sha256:70d05cbeeace4aa9b11f5450c5046ecb815b84fccf08fcb322d3294da518e61c"
 },
 "nbformat": 3,
 "nbformat_minor": 0,
 "worksheets": [
  {
   "cells": [
    {
     "cell_type": "code",
     "collapsed": false,
     "input": [
      "%pylab inline\n",
      "rcParams['figure.figsize'] = (10,6)\n",
      "from lagranto import Tra"
     ],
     "language": "python",
     "metadata": {},
     "outputs": [
      {
       "output_type": "stream",
       "stream": "stdout",
       "text": [
        "Populating the interactive namespace from numpy and matplotlib\n"
       ]
      }
     ],
     "prompt_number": 1
    },
    {
     "cell_type": "markdown",
     "metadata": {},
     "source": [
      "---\n",
      "## Loading trajectories using Tra"
     ]
    },
    {
     "cell_type": "code",
     "collapsed": false,
     "input": [
      "filename = 'data/lsl_20070119_12_ana_48'\n",
      "trajs = Tra(filename)\n",
      "print trajs\n",
      "print trajs.shape"
     ],
     "language": "python",
     "metadata": {},
     "outputs": [
      {
       "output_type": "stream",
       "stream": "stdout",
       "text": [
        "         303 trajectories with 9 time steps. \n",
        "         Available fields: time/lon/lat/p/Q/RH/TH/PV/P/LABEL\n",
        "         total duration: 2880.0 minutes\n",
        "(303, 9)\n"
       ]
      }
     ],
     "prompt_number": 2
    },
    {
     "cell_type": "markdown",
     "metadata": {},
     "source": [
      "***\n",
      "## Play around with the data\n",
      "* Explore the data using Notebook feature like !, tab-completation on trajs.\n",
      "* print the time of the first trajectorie using trajs['time']\n",
      "* print the pressure at the starting time of all trajectories"
     ]
    },
    {
     "cell_type": "code",
     "collapsed": false,
     "input": [
      "import re\n",
      "re?"
     ],
     "language": "python",
     "metadata": {},
     "outputs": [],
     "prompt_number": 3
    },
    {
     "cell_type": "markdown",
     "metadata": {},
     "source": [
      "---\n",
      "## Interpolate PV on evenly spaced pressure level\n",
      "Interpolate at each 50hPa pressure level between 1000hPa and 200hPa\n",
      "\n",
      "Hint: Use the scipy.interpolate module"
     ]
    },
    {
     "cell_type": "code",
     "collapsed": false,
     "input": [],
     "language": "python",
     "metadata": {},
     "outputs": []
    },
    {
     "cell_type": "markdown",
     "metadata": {},
     "source": [
      "---\n",
      "## Plot the mean, mean + std, mean - std of PV interpolated on pressure levels\n",
      "Use the decreasing pressure as x axis\n",
      "hint:\n",
      "* use np.nanmean and np.nanstd\n",
      "* use matplotlib fill_bewteen function"
     ]
    },
    {
     "cell_type": "code",
     "collapsed": false,
     "input": [],
     "language": "python",
     "metadata": {},
     "outputs": []
    },
    {
     "cell_type": "markdown",
     "metadata": {},
     "source": [
      "---\n",
      "## Plot the same paramaters as above for TH, RH, PV, Q in a 4x4 plot\n",
      "Hint : use the AxesGrid class from the mpl_toolkits.axes_grid1 module"
     ]
    },
    {
     "cell_type": "code",
     "collapsed": false,
     "input": [],
     "language": "python",
     "metadata": {},
     "outputs": []
    },
    {
     "cell_type": "markdown",
     "metadata": {},
     "source": [
      "---\n",
      "## Do a scatter plot of Q versus PV, with points colored by pressure"
     ]
    },
    {
     "cell_type": "code",
     "collapsed": false,
     "input": [],
     "language": "python",
     "metadata": {},
     "outputs": []
    },
    {
     "cell_type": "markdown",
     "metadata": {},
     "source": [
      "---\n",
      "## Plot TH values at each P level in the form of a boxplot"
     ]
    },
    {
     "cell_type": "code",
     "collapsed": false,
     "input": [],
     "language": "python",
     "metadata": {},
     "outputs": []
    },
    {
     "cell_type": "markdown",
     "metadata": {},
     "source": [
      "---\n",
      "## Plot the trajectories on a map\n",
      "hint : Use the Basemap class from the mpl_toolkits.basemap module"
     ]
    },
    {
     "cell_type": "code",
     "collapsed": false,
     "input": [],
     "language": "python",
     "metadata": {},
     "outputs": []
    },
    {
     "cell_type": "markdown",
     "metadata": {},
     "source": [
      "---\n",
      "## Plot the trajectories on a map, coloring them with pressure\n",
      "hint : Use the LineCollection class from matplotlib.collections module"
     ]
    },
    {
     "cell_type": "code",
     "collapsed": false,
     "input": [],
     "language": "python",
     "metadata": {},
     "outputs": []
    }
   ],
   "metadata": {}
  }
 ]
}