{
 "metadata": {
  "name": "",
  "signature": "sha256:b7d5f7759d367a41720e484385bf04a7d21ab5204ee85f90c747a62a125301e0"
 },
 "nbformat": 3,
 "nbformat_minor": 0,
 "worksheets": []
}