{
 "metadata": {
  "name": "",
  "signature": "sha256:1c0345412ca9a8bcc72521be986d5ad9547764d62dde6e5f7d59228a18bda1f1"
 },
 "nbformat": 3,
 "nbformat_minor": 0,
 "worksheets": [
  {
   "cells": [
    {
     "cell_type": "markdown",
     "metadata": {},
     "source": [
      "<h1>Learning Objectives</h1>\n",
      "\n",
      "<ul>\n",
      "    <li> Get to know the overall Notebook environment </li>\n",
      "    <li> The usage of cells </li>\n",
      "    <li> Interactively explore Python </li>\n",
      "    <li> Basic shell commands and navigating directories </li>\n",
      "    <li> Use keyboard shortcuts </li>\n",
      "    <li> Exporting notebooks as .py </li>\n",
      "    <li> Magic functions </li>\n",
      "    <li> Save and exit </li>\n",
      "</ul>"
     ]
    },
    {
     "cell_type": "code",
     "collapsed": false,
     "input": [],
     "language": "python",
     "metadata": {},
     "outputs": []
    }
   ],
   "metadata": {}
  }
 ]
}