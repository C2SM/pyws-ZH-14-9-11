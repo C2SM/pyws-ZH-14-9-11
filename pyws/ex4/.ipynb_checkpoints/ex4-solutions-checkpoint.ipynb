{
 "metadata": {
  "name": "",
  "signature": "sha256:8fdc39ad2c8174b10faa2e0e94aee30d20322bb90b262380420bf7e13f554c33"
 },
 "nbformat": 3,
 "nbformat_minor": 0,
 "worksheets": [
  {
   "cells": [
    {
     "cell_type": "markdown",
     "metadata": {},
     "source": [
      "<center><span style=\"font-size:250%\"> The Big Exercise - Part 1</span></center>"
     ]
    },
    {
     "cell_type": "markdown",
     "metadata": {},
     "source": [
      "## Exercise 1<br>\n",
      "Calculate Pi using the Wallis formula:<br>\n",
      "\n",
      "$\n",
      " \\Large\\pi = 2\\cdot{\\LARGE\\Pi}_{i=1}^\\infty\\frac{4i^2}{4i^2 - 1}\n",
      "$\n",
      "\n",
      "* Ok, not exactly :)\n",
      "* But find at least 2 ways to do it!\n",
      "* Bonus point if you use recursion."
     ]
    },
    {
     "cell_type": "code",
     "collapsed": false,
     "input": [
      "# Version 1\n",
      "limit = 10000\n",
      "p = 2\n",
      "for i in range(1,limit+1):\n",
      "    p *= (4.0 * i**2)/(4.0 * i**2 - 1)\n",
      "    \n",
      "print(p)\n",
      "    "
     ],
     "language": "python",
     "metadata": {},
     "outputs": [
      {
       "output_type": "stream",
       "stream": "stdout",
       "text": [
        "3.14151411868\n"
       ]
      }
     ],
     "prompt_number": 17
    },
    {
     "cell_type": "code",
     "collapsed": false,
     "input": [
      "# Version 2\n",
      "def pirec(i):\n",
      "    if i == 0:\n",
      "        return(2)\n",
      "    return((4.0 * i**2)/(4.0 * i**2 - 1) * pirec(i-1))\n",
      "\n",
      "## Don't call with larger parameter!\n",
      "pirec(100)"
     ],
     "language": "python",
     "metadata": {},
     "outputs": [
      {
       "metadata": {},
       "output_type": "pyout",
       "prompt_number": 1,
       "text": [
        "3.133787490628162"
       ]
      }
     ],
     "prompt_number": 1
    },
    {
     "cell_type": "markdown",
     "metadata": {},
     "source": [
      "## Exercise 2\n",
      "Based on the system dictionary, find\n",
      "1. Palindromes (words that remain the same when read backward), and\n",
      "2. Semordnilap (words that become other words, when read backward).\n",
      "\n",
      "What are the longest five palindromes and semordnilap, respectively?<br />\n",
      "Plot histograms of the palindrome- and semordnilap-distribution."
     ]
    },
    {
     "cell_type": "code",
     "collapsed": false,
     "input": [
      "# The path to the dictionary:\n",
      "wordspath = \"/usr/share/dict/american\"\n",
      "# Each line of the file contains one word\n",
      "\n",
      "# Read the words in the file into a list; don't forget to close the file when you are done.\n",
      "wordsfile = open(wordspath, 'r')\n",
      "words = wordsfile.readlines()\n",
      "wordsfile.close()"
     ],
     "language": "python",
     "metadata": {},
     "outputs": [],
     "prompt_number": 1
    },
    {
     "cell_type": "code",
     "collapsed": false,
     "input": [
      "# Look at a couple of words. What might be systematically wrong here?\n",
      "# Fix it using str.strip()\n",
      "print(words[30:40])\n",
      "words = [x.strip('\\n') for x in words]\n",
      "print(words[30:40])\n",
      "words[14]"
     ],
     "language": "python",
     "metadata": {},
     "outputs": [
      {
       "output_type": "stream",
       "stream": "stdout",
       "text": [
        "['Aaronical\\n', 'Aaronsburg\\n', \"Aaronsburg's\\n\", 'aarrgh\\n', 'aarrghh\\n', \"AA's\\n\", \"A'asia\\n\", 'aasvogel\\n', 'aasvogels\\n', 'AB\\n']\n",
        "['Aaronical', 'Aaronsburg', \"Aaronsburg's\", 'aarrgh', 'aarrghh', \"AA's\", \"A'asia\", 'aasvogel', 'aasvogels', 'AB']"
       ]
      },
      {
       "output_type": "stream",
       "stream": "stdout",
       "text": [
        "\n"
       ]
      },
      {
       "metadata": {},
       "output_type": "pyout",
       "prompt_number": 2,
       "text": [
        "\"Aaliyah's\""
       ]
      }
     ],
     "prompt_number": 2
    },
    {
     "cell_type": "code",
     "collapsed": false,
     "input": [
      "# Disregard capitalization\n",
      "# Hint: Use \"str.lower()\"\n",
      "# Test with 15th word from the list: \"Aaliyah's\".\n",
      "print(words[14])\n",
      "words = [ x.lower() for x in words ]\n",
      "print(words[14])"
     ],
     "language": "python",
     "metadata": {},
     "outputs": [
      {
       "output_type": "stream",
       "stream": "stdout",
       "text": [
        "Aaliyah's\n",
        "aaliyah's"
       ]
      },
      {
       "output_type": "stream",
       "stream": "stdout",
       "text": [
        "\n"
       ]
      }
     ],
     "prompt_number": 3
    },
    {
     "cell_type": "code",
     "collapsed": false,
     "input": [
      "#### EXTRA BONUS - IGNORE IN FIRST TRY !!! ##########\n",
      "# remove non-letter characters, such as apostrophes\n",
      "\n",
      "## Hint: Use \"char()\"; the ASCII-codes for lower-case letters are 97 to 122.\n",
      "## Hint: The \"[f(x) for x in list if condition]\" - \"filter\" construct could be handy here.\n",
      "## Hint: How to make a list of characters into a string? Use \" ''.join(list) \".\n",
      "## Hint: Also nested list-comprehension can be used.\n",
      "\n",
      "letters = [chr(x) for x in range(97, 123)]\n",
      "words = [''.join([x for x in word if x in letters]) for word in words]\n",
      "print(words[14])"
     ],
     "language": "python",
     "metadata": {},
     "outputs": [
      {
       "output_type": "stream",
       "stream": "stdout",
       "text": [
        "aaliyahs\n"
       ]
      }
     ],
     "prompt_number": 4
    },
    {
     "cell_type": "code",
     "collapsed": false,
     "input": [
      "# Find semordnilap. (A semornildap is a word that, spelled backwards, gives a different word)\n",
      "## Hint: Maybe use the \"set\"-datatype\n",
      "## Hint:The string-method \"list.sort(key=len)\" will sort a list according to len(list_element).\n",
      "\n",
      "revwords = [ x[::-1] for x in words ]\n",
      "semordnilap = set(words) & set(revwords)\n",
      "semordnilap = list(semordnilap)\n",
      "semordnilap.sort(key=len)\n",
      "print(semordnilap[-1:-6:-1])\n",
      "print([x[::-1] for x in semordnilap[-1:-6:-1]])\n"
     ],
     "language": "python",
     "metadata": {},
     "outputs": [
      {
       "output_type": "stream",
       "stream": "stdout",
       "text": [
        "['rotavator', 'malayalam', 'desserts', 'redrawer', 'rewarder']\n",
        "['rotavator', 'malayalam', 'stressed', 'rewarder', 'redrawer']\n"
       ]
      }
     ],
     "prompt_number": 5
    },
    {
     "cell_type": "code",
     "collapsed": false,
     "input": [
      "# Find Palindromes.\n",
      "palindromes = [x for x in semordnilap if x[::-1] == x]\n",
      "print(palindromes[-1:-6:-1])"
     ],
     "language": "python",
     "metadata": {},
     "outputs": [
      {
       "output_type": "stream",
       "stream": "stdout",
       "text": [
        "['rotavator', 'malayalam', 'rotator', 'halalah', 'reviver']\n"
       ]
      }
     ],
     "prompt_number": 6
    },
    {
     "cell_type": "code",
     "collapsed": false,
     "input": [
      "# Plot histograms\n",
      "# Hint: use \"hist()\"\n",
      "\n",
      "subplot(1,2,1)\n",
      "hist([len(x) for x in palindromes], bins=arange(0.5,10,1))\n",
      "title('Palindromes')\n",
      "subplot(1,2,2)\n",
      "hist([len(x) for x in semordnilap], bins=arange(0.5, 19,1) )\n",
      "title('Semordnilap')"
     ],
     "language": "python",
     "metadata": {},
     "outputs": [
      {
       "metadata": {},
       "output_type": "pyout",
       "prompt_number": 7,
       "text": [
        "<matplotlib.text.Text at 0x409c190>"
       ]
      },
      {
       "metadata": {},
       "output_type": "display_data",
       "png": "[encoded data removed]",
       "text": [
        "<matplotlib.figure.Figure at 0x3f3e510>"
       ]
      }
     ],
     "prompt_number": 7
    },
    {
     "cell_type": "markdown",
     "metadata": {},
     "source": [
      "## Exercise 3\n",
      "Write a program that takes an integer as user input and reports whether that is a prime number or not.\n",
      "\n"
     ]
    },
    {
     "cell_type": "code",
     "collapsed": false,
     "input": [],
     "language": "python",
     "metadata": {},
     "outputs": []
    }
   ],
   "metadata": {}
  }
 ]
}