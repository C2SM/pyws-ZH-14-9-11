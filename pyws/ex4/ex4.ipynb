{
 "metadata": {
  "name": "",
  "signature": "sha256:9c398b4003ce7f62e0ed9ba81ff1c00fa0f2e7558fa04ee69c63b89f17fbc6c3"
 },
 "nbformat": 3,
 "nbformat_minor": 0,
 "worksheets": [
  {
   "cells": [
    {
     "cell_type": "markdown",
     "metadata": {},
     "source": [
      "<center><span style=\"font-size:250%\"> The Big Exercise - Part 1</span></center>"
     ]
    },
    {
     "cell_type": "markdown",
     "metadata": {},
     "source": [
      "## Exercise 1<br>\n",
      "Calculate Pi using the Wallis formula:<br>\n",
      "\n",
      "$\n",
      " \\Large\\pi = 2\\cdot{\\LARGE\\Pi}_{i=1}^\\infty\\frac{4i^2}{4i^2 - 1}\n",
      "$\n",
      "\n",
      "* Ok, not exactly :)\n",
      "* But find at least 2 ways to do it!\n",
      "* Bonus point if you use recursion."
     ]
    },
    {
     "cell_type": "code",
     "collapsed": false,
     "input": [
      "print 'test'"
     ],
     "language": "python",
     "metadata": {},
     "outputs": [
      {
       "output_type": "stream",
       "stream": "stdout",
       "text": [
        "test\n"
       ]
      }
     ],
     "prompt_number": 1
    },
    {
     "cell_type": "code",
     "collapsed": false,
     "input": [
      "# Version 1\n",
      "pi = 2*reduce(lambda x,y :x*y, [4.*i**2/(4*i**2-1) for i in range(1,10**6)])\n",
      "print(pi)\n",
      "\n"
     ],
     "language": "python",
     "metadata": {},
     "outputs": [
      {
       "output_type": "stream",
       "stream": "stdout",
       "text": [
        "3.14159186819\n"
       ]
      }
     ],
     "prompt_number": 2
    },
    {
     "cell_type": "code",
     "collapsed": false,
     "input": [
      "# Version 2\n",
      "def getpi(i=1):\n",
      "\n",
      "    pi = 4.*i**2/(4.*i**2-1)\n",
      "    if i==101:\n",
      "        return pi\n",
      "    \n",
      "    return pi * getpi(i+1)\n",
      "\n",
      "res = 2 * getpi()\n",
      "print res"
     ],
     "language": "python",
     "metadata": {},
     "outputs": [
      {
       "output_type": "stream",
       "stream": "stdout",
       "text": [
        "3.1338642935\n"
       ]
      }
     ],
     "prompt_number": 11
    },
    {
     "cell_type": "markdown",
     "metadata": {},
     "source": [
      "## Exercise 2\n",
      "Based on the system dictionary, find\n",
      "1. Palindromes (words that remain the same when read backward), and\n",
      "2. Semordnilap (words that become other words, when read backward).\n",
      "\n",
      "What are the longest five palindromes and semordnilap, respectively?<br />\n",
      "Plot histograms of the palindrome- and semordnilap-distribution."
     ]
    },
    {
     "cell_type": "code",
     "collapsed": false,
     "input": [
      "# The path to the dictionary:\n",
      "wordspath = \"/usr/share/dict/american\"\n",
      "# Each line of the file contains one word\n",
      "\n",
      "# Read the words in the file into a list; don't forget to close the file when you are done.\n",
      "\n",
      "\n"
     ],
     "language": "python",
     "metadata": {},
     "outputs": []
    },
    {
     "cell_type": "code",
     "collapsed": false,
     "input": [
      "# Look at a couple of words. What might be systematically wrong here?\n",
      "# Fix it using str.strip()\n",
      "\n",
      "\n"
     ],
     "language": "python",
     "metadata": {},
     "outputs": []
    },
    {
     "cell_type": "code",
     "collapsed": false,
     "input": [
      "# Disregard capitalization\n",
      "# Hint: Use \"str.lower()\"\n",
      "# Test with 15th word from the list: \"Aaliyah's\"."
     ],
     "language": "python",
     "metadata": {},
     "outputs": []
    },
    {
     "cell_type": "code",
     "collapsed": false,
     "input": [
      "#### EXTRA BONUS - IGNORE IN FIRST TRY !!! ##########\n",
      "# remove non-letter characters, such as apostrophes\n",
      "\n",
      "## Hint: Use \"char()\"; the ASCII-codes for lower-case letters are 97 to 122.\n",
      "## Hint: The \"[f(x) for x in list if condition]\" - \"filter\" construct could be handy here.\n",
      "## Hint: How to make a list of characters into a string? Use \" ''.join(list) \".\n",
      "## Hint: Also nested list-comprehension can be used.\n",
      "\n",
      "\n",
      "\n"
     ],
     "language": "python",
     "metadata": {},
     "outputs": []
    },
    {
     "cell_type": "code",
     "collapsed": false,
     "input": [
      "# Find semordnilap. (A semornildap is a word that, spelled backwards, gives a different word)\n",
      "## Hint: Maybe use the \"set\"-datatype\n",
      "## Hint:The string-method \"list.sort(key=len)\" will sort a list according to len(list_element).\n",
      "\n"
     ],
     "language": "python",
     "metadata": {},
     "outputs": []
    },
    {
     "cell_type": "code",
     "collapsed": false,
     "input": [
      "# Find Palindromes.\n",
      "\n"
     ],
     "language": "python",
     "metadata": {},
     "outputs": []
    },
    {
     "cell_type": "code",
     "collapsed": false,
     "input": [
      "# Plot histograms\n",
      "# Hint: use \"hist()\"\n",
      "\n",
      "\n"
     ],
     "language": "python",
     "metadata": {},
     "outputs": []
    },
    {
     "cell_type": "markdown",
     "metadata": {},
     "source": [
      "## Exercise 3\n",
      "Write a program that takes an integer as user input and reports whether that is a prime number or not.\n"
     ]
    },
    {
     "cell_type": "code",
     "collapsed": false,
     "input": [
      "n = 2*3*5*7*11*13*17+1\n",
      "test = np.array([n%i for i in xrange(2,int(np.ceil(n/2)))])\n",
      "print(np.any(test == 0))\n",
      "ind,= np.where(test == 0)\n",
      "print(ind+2)\n",
      "print(n/(ind+2))"
     ],
     "language": "python",
     "metadata": {},
     "outputs": [
      {
       "output_type": "stream",
       "stream": "stdout",
       "text": [
        "True\n",
        "[   19    97   277  1843  5263 26869]\n",
        "[26869  5263  1843   277    97    19]\n"
       ]
      }
     ],
     "prompt_number": 93
    },
    {
     "cell_type": "code",
     "collapsed": false,
     "input": [],
     "language": "python",
     "metadata": {},
     "outputs": [],
     "prompt_number": 4
    },
    {
     "cell_type": "code",
     "collapsed": false,
     "input": [],
     "language": "python",
     "metadata": {},
     "outputs": []
    },
    {
     "cell_type": "code",
     "collapsed": false,
     "input": [],
     "language": "python",
     "metadata": {},
     "outputs": []
    }
   ],
   "metadata": {}
  }
 ]
}