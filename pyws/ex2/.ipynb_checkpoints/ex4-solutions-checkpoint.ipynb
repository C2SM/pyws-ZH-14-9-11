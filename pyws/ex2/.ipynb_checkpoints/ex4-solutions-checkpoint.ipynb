{
 "metadata": {
  "name": "",
  "signature": "sha256:46503f69c14dca7d33894d670d8d627fb74dfbc8018e21f87e230cb858a9e667"
 },
 "nbformat": 3,
 "nbformat_minor": 0,
 "worksheets": [
  {
   "cells": [
    {
     "cell_type": "code",
     "collapsed": false,
     "input": [],
     "language": "python",
     "metadata": {},
     "outputs": []
    }
   ],
   "metadata": {}
  }
 ]
}