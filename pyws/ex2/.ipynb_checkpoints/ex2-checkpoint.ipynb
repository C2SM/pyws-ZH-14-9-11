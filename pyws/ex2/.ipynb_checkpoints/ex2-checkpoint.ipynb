{
 "metadata": {
  "name": "",
  "signature": "sha256:865ff24135ffc5d5c57855b7a7875f0f4ff20f17c9c3c2fa08ff2b65b8daa260"
 },
 "nbformat": 3,
 "nbformat_minor": 0,
 "worksheets": [
  {
   "cells": [
    {
     "cell_type": "markdown",
     "metadata": {},
     "source": [
      "<center><span style=\"font-size:250%\"> Datatypes and Control-Flow</span></center>"
     ]
    },
    {
     "cell_type": "markdown",
     "metadata": {},
     "source": [
      "# Table of contents\n",
      "1. <a href=\"#numeric-types-int-long-float-complex-bool-\">Numeric Types</a>\n",
      "2. <a href=\"#strings\">Strings</a>\n",
      "3. <a href=\"#lists\">Lists</a>\n",
      "4. <a href=\"#tuples-and-sets\">Tuples and Sets</a>\n",
      "5. <a href=\"#dictionaries\">Dictionaries</a>\n",
      "6. <a href=\"#control-flow\">Control-Flow</a>\n",
      "7. <a href=\"#functions\">Functions</a>"
     ]
    },
    {
     "cell_type": "markdown",
     "metadata": {},
     "source": [
      "<a href=\"#exercises\">"
     ]
    },
    {
     "cell_type": "markdown",
     "metadata": {},
     "source": [
      "# Datatypes"
     ]
    },
    {
     "cell_type": "markdown",
     "metadata": {},
     "source": [
      "## Numeric Types: `int`, `long`, `float`, `complex`, `bool`\n",
      "* int: 32 bit\n",
      "* long: unlimited precision\n",
      "* float: 64 bit\n",
      "* complex: real float and imaginary float\n",
      "* bool: `True` and `False`\n"
     ]
    },
    {
     "cell_type": "code",
     "collapsed": true,
     "input": [
      "# The \"hash-mark\" indicates the start of a comment\n",
      "# Python automatically assigns the right type:\n",
      "\n",
      "a = 3 # Another Comment\n",
      "b = 1.1\n",
      "c = 4 + 6j\n",
      "print(type(a), type(b), type(c))"
     ],
     "language": "python",
     "metadata": {},
     "outputs": [
      {
       "output_type": "stream",
       "stream": "stdout",
       "text": [
        "(<type 'int'>, <type 'float'>, <type 'complex'>)\n"
       ]
      }
     ],
     "prompt_number": 109
    },
    {
     "cell_type": "code",
     "collapsed": false,
     "input": [
      "# Mixing types in an arithmetic expression \n",
      "# will yield the \"wider\" type\n",
      "\n",
      "print(b * 5, type(b * 5))\n",
      "print (b + c, type(b + c))\n"
     ],
     "language": "python",
     "metadata": {},
     "outputs": [
      {
       "output_type": "stream",
       "stream": "stdout",
       "text": [
        "(5.5, <type 'float'>)\n",
        "((5.1+6j), <type 'complex'>)\n"
       ]
      }
     ],
     "prompt_number": 110
    },
    {
     "cell_type": "markdown",
     "metadata": {},
     "source": [
      "** <span style=\"background-color:red;\">Integer division yields integer!</span>**\n",
      "* add decimal point, or\n",
      "* cast explicitly (eg. `float()`)"
     ]
    },
    {
     "cell_type": "code",
     "collapsed": false,
     "input": [
      "print(a / 4, a / 4.0, float(a) / 4)"
     ],
     "language": "python",
     "metadata": {},
     "outputs": [
      {
       "output_type": "stream",
       "stream": "stdout",
       "text": [
        "(0, 0.75, 0.75)\n"
       ]
      }
     ],
     "prompt_number": 125
    },
    {
     "cell_type": "code",
     "collapsed": false,
     "input": [
      "# The Boolean Type: `bool`\n",
      "test = 3 > 4\n",
      "tost = 5 != 9\n",
      "print(test, type(test))\n",
      "print(tost, type(tost))"
     ],
     "language": "python",
     "metadata": {},
     "outputs": [
      {
       "output_type": "stream",
       "stream": "stdout",
       "text": [
        "(False, <type 'bool'>)\n",
        "(True, <type 'bool'>)\n"
       ]
      }
     ],
     "prompt_number": 114
    },
    {
     "cell_type": "code",
     "collapsed": false,
     "input": [
      "# More Information about numeric datatypes\n",
      "\n",
      "from IPython.display import HTML\n",
      "HTML('<iframe src=\"https://docs.python.org/2/library/stdtypes.html#numeric-types-int-float-long-complex\" width=700 height=350></iframe>')"
     ],
     "language": "python",
     "metadata": {},
     "outputs": [
      {
       "html": [
        "<iframe src=\"https://docs.python.org/2/library/stdtypes.html#numeric-types-int-float-long-complex\" width=700 height=350></iframe>"
       ],
       "metadata": {},
       "output_type": "pyout",
       "prompt_number": 115,
       "text": [
        "<IPython.core.display.HTML at 0x6f03b90>"
       ]
      }
     ],
     "prompt_number": 115
    },
    {
     "cell_type": "markdown",
     "metadata": {},
     "source": [
      "## Strings"
     ]
    },
    {
     "cell_type": "markdown",
     "metadata": {},
     "source": [
      "* double quote (`\"`) and single quotes (`'`) are synonymous.\n",
      "* triple quotes (`'''`) preserve line endings.\n",
      "* the backslash (`\\`) is the escape-character. "
     ]
    },
    {
     "cell_type": "code",
     "collapsed": false,
     "input": [
      "s1 = 'He\\'s a lumberjack, and he\\'s okay.\\nHe sleeps all night and he works all day.'\n",
      "\n",
      "s2 = '''I cut down trees. I eat my lunch.\n",
      "I go to the lavatory.\n",
      "On Wednesdays I go shoppin'\n",
      "And have buttered scones for tea.'''\n",
      "\n",
      "print(s1)\n",
      "print\n",
      "print(s2)"
     ],
     "language": "python",
     "metadata": {},
     "outputs": [
      {
       "output_type": "stream",
       "stream": "stdout",
       "text": [
        "He's a lumberjack, and he's okay.\n",
        "He sleeps all night and he works all day.\n",
        "\n",
        "I cut down trees. I eat my lunch.\n",
        "I go to the lavatory.\n",
        "On Wednesdays I go shoppin'\n",
        "And have buttered scones for tea.\n"
       ]
      }
     ],
     "prompt_number": 117
    },
    {
     "cell_type": "markdown",
     "metadata": {},
     "source": [
      "* concatenate with \"`+`\"\n",
      "* format using `format()` - method"
     ]
    },
    {
     "cell_type": "code",
     "collapsed": false,
     "input": [
      "('{:.4f} is a {}'.format(pi,'float') + \n",
      "' and \"a = {}\" needs no formatting in excercise {:02d}.'.format(3.1,1))\n",
      "\n",
      "# Btw. : line-breaks inside brackets are implicitly continued"
     ],
     "language": "python",
     "metadata": {},
     "outputs": [
      {
       "metadata": {},
       "output_type": "pyout",
       "prompt_number": 119,
       "text": [
        "'3.1416 is a float and \"a = 3.1\" needs no formatting in excercise 01.'"
       ]
      }
     ],
     "prompt_number": 119
    },
    {
     "cell_type": "code",
     "collapsed": false,
     "input": [
      "# More on the format-specification\n",
      "from IPython.display import HTML\n",
      "HTML('<iframe src=\"https://docs.python.org/2/library/string.html#format-specification-mini-language\" width=700 height=350></iframe>')"
     ],
     "language": "python",
     "metadata": {},
     "outputs": [
      {
       "html": [
        "<iframe src=\"https://docs.python.org/2/library/string.html#format-specification-mini-language\" width=700 height=350></iframe>"
       ],
       "metadata": {},
       "output_type": "pyout",
       "prompt_number": 99,
       "text": [
        "<IPython.core.display.HTML at 0x2a8b610>"
       ]
      }
     ],
     "prompt_number": 99
    },
    {
     "cell_type": "markdown",
     "metadata": {},
     "source": [
      "* strings support *indexing*\n",
      "* and *slicing*"
     ]
    },
    {
     "cell_type": "code",
     "collapsed": false,
     "input": [
      "s = \"0123456789\"\n",
      "index0 = s[0]\n",
      "index9 = s[9]\n",
      "print(\"Index zero: {}, index nine: {}\".format(index0, index9))"
     ],
     "language": "python",
     "metadata": {},
     "outputs": [
      {
       "output_type": "stream",
       "stream": "stdout",
       "text": [
        "Index zero: 0, index nine: 9\n"
       ]
      },
      {
       "metadata": {},
       "output_type": "pyout",
       "prompt_number": 121,
       "text": [
        "str"
       ]
      }
     ],
     "prompt_number": 121
    },
    {
     "cell_type": "markdown",
     "metadata": {},
     "source": [
      "**Note:**\n",
      "* <span style=\"background-color:red;\">Indices start with 0.</span> as in C, unlike Fortran, Matlab, R. \n",
      "* index `i` retuns the (`i+1`)st character."
     ]
    },
    {
     "cell_type": "code",
     "collapsed": false,
     "input": [
      "# Negative indices count from the end\n",
      "# Slice using \"[start:stop:step]\"\n",
      "# Any of \"start\", \"stop\", \"step\" can be omitted\n",
      "# They default to 0, len(string), 1, respectively\n",
      "s = \"0123456789\"\n",
      "print(s[-1], s[-2], s[0:2], s[0:9], s[0:10], s[:], s[:3], s[3:],s[::2])"
     ],
     "language": "python",
     "metadata": {},
     "outputs": [
      {
       "output_type": "stream",
       "stream": "stdout",
       "text": [
        "('9', '8', '01', '012345678', '0123456789', '0123456789', '012', '3456789', '02468')\n"
       ]
      }
     ],
     "prompt_number": 122
    },
    {
     "cell_type": "markdown",
     "metadata": {},
     "source": [
      "**Note:** Strings are \"immutable\"\n"
     ]
    },
    {
     "cell_type": "code",
     "collapsed": false,
     "input": [
      "s = \"0123456789\"\n",
      "s[0] = 1"
     ],
     "language": "python",
     "metadata": {},
     "outputs": [
      {
       "ename": "TypeError",
       "evalue": "'str' object does not support item assignment",
       "output_type": "pyerr",
       "traceback": [
        "\u001b[1;31m---------------------------------------------------------------------------\u001b[0m\n\u001b[1;31mTypeError\u001b[0m                                 Traceback (most recent call last)",
        "\u001b[1;32m<ipython-input-123-e2e75c59f7f6>\u001b[0m in \u001b[0;36m<module>\u001b[1;34m()\u001b[0m\n\u001b[0;32m      1\u001b[0m \u001b[0ms\u001b[0m \u001b[1;33m=\u001b[0m \u001b[1;34m\"0123456789\"\u001b[0m\u001b[1;33m\u001b[0m\u001b[0m\n\u001b[1;32m----> 2\u001b[1;33m \u001b[0ms\u001b[0m\u001b[1;33m[\u001b[0m\u001b[1;36m0\u001b[0m\u001b[1;33m]\u001b[0m \u001b[1;33m=\u001b[0m \u001b[1;36m1\u001b[0m\u001b[1;33m\u001b[0m\u001b[0m\n\u001b[0m",
        "\u001b[1;31mTypeError\u001b[0m: 'str' object does not support item assignment"
       ]
      }
     ],
     "prompt_number": 123
    },
    {
     "cell_type": "markdown",
     "metadata": {},
     "source": [
      "There are a largne number of string methods.<br />\n",
      "Examples:\n",
      "\n"
     ]
    },
    {
     "cell_type": "code",
     "collapsed": false,
     "input": [
      "'Py' in 'Python'"
     ],
     "language": "python",
     "metadata": {},
     "outputs": [
      {
       "metadata": {},
       "output_type": "pyout",
       "prompt_number": 104,
       "text": [
        "True"
       ]
      }
     ],
     "prompt_number": 104
    },
    {
     "cell_type": "code",
     "collapsed": false,
     "input": [
      "'Python'.find('tho')"
     ],
     "language": "python",
     "metadata": {},
     "outputs": [
      {
       "metadata": {},
       "output_type": "pyout",
       "prompt_number": 105,
       "text": [
        "2"
       ]
      }
     ],
     "prompt_number": 105
    },
    {
     "cell_type": "code",
     "collapsed": false,
     "input": [
      "s.isdigit()"
     ],
     "language": "python",
     "metadata": {},
     "outputs": [
      {
       "metadata": {},
       "output_type": "pyout",
       "prompt_number": 106,
       "text": [
        "True"
       ]
      }
     ],
     "prompt_number": 106
    },
    {
     "cell_type": "code",
     "collapsed": false,
     "input": [
      "words = \"Words usually are obtained  by splitting at    whitespace\".split()\n",
      "nowords = \"Words usually are obtained  by splitting at    whitespace\".split('a')\n",
      "print(words)\n",
      "print(nowords)"
     ],
     "language": "python",
     "metadata": {},
     "outputs": [
      {
       "output_type": "stream",
       "stream": "stdout",
       "text": [
        "['Words', 'usually', 'are', 'obtained', 'by', 'splitting', 'at', 'whitespace']\n",
        "['Words usu', 'lly ', 're obt', 'ined  by splitting ', 't    whitesp', 'ce']\n"
       ]
      }
     ],
     "prompt_number": 107
    },
    {
     "cell_type": "code",
     "collapsed": false,
     "input": [
      "'_'.join(words)"
     ],
     "language": "python",
     "metadata": {},
     "outputs": [
      {
       "metadata": {},
       "output_type": "pyout",
       "prompt_number": 108,
       "text": [
        "'Words_usually_are_obtained_by_splitting_at_whitespace'"
       ]
      }
     ],
     "prompt_number": 108
    },
    {
     "cell_type": "markdown",
     "metadata": {},
     "source": [
      "**Ipython Trick**<br />\n",
      "Get a list of all available methods for an object by writing \"`objectname.`\" and hitting [TAB].<br />\n",
      "Try \"`words.`[TAB]\"\n",
      "Also \"`str.`[TAB]\""
     ]
    },
    {
     "cell_type": "code",
     "collapsed": false,
     "input": [],
     "language": "python",
     "metadata": {},
     "outputs": [],
     "prompt_number": 108
    },
    {
     "cell_type": "code",
     "collapsed": false,
     "input": [
      "# Documentation of string methods\n",
      "from IPython.display import HTML\n",
      "HTML('<iframe src=\"https://docs.python.org/2/library/stdtypes.html#string-methods\" width=700 height=350></iframe>')"
     ],
     "language": "python",
     "metadata": {},
     "outputs": [
      {
       "html": [
        "<iframe src=\"https://docs.python.org/2/library/stdtypes.html#string-methods\" width=700 height=350></iframe>"
       ],
       "metadata": {},
       "output_type": "pyout",
       "prompt_number": 109,
       "text": [
        "<IPython.core.display.HTML at 0x2943910>"
       ]
      }
     ],
     "prompt_number": 109
    },
    {
     "cell_type": "code",
     "collapsed": false,
     "input": [],
     "language": "python",
     "metadata": {},
     "outputs": []
    },
    {
     "cell_type": "markdown",
     "metadata": {},
     "source": [
      "<center>\n",
      "<span style=\"background-color:gray;font-size:200%\">5 minutes to play with numeric types, strings and formatting</span>\n",
      "</center>"
     ]
    },
    {
     "cell_type": "code",
     "collapsed": false,
     "input": [],
     "language": "python",
     "metadata": {},
     "outputs": []
    },
    {
     "cell_type": "markdown",
     "metadata": {},
     "source": [
      " ## Lists\n",
      " * Lists are very powerful in Python.\n",
      " * Lists can contain any mixture of objects.\n",
      " * The list is an **ordered** container."
     ]
    },
    {
     "cell_type": "code",
     "collapsed": false,
     "input": [
      "L = ['red', 2, 'blue', 3, 'green', 9.9, 'black', 0.7, 'white', -5]\n",
      "type(L)"
     ],
     "language": "python",
     "metadata": {},
     "outputs": [
      {
       "metadata": {},
       "output_type": "pyout",
       "prompt_number": 124,
       "text": [
        "list"
       ]
      }
     ],
     "prompt_number": 124
    },
    {
     "cell_type": "code",
     "collapsed": false,
     "input": [
      "# Indexing and slicing just as for strings\n",
      "\n",
      "print(L[0])\n",
      "print(L[-1:3:-1])"
     ],
     "language": "python",
     "metadata": {},
     "outputs": [
      {
       "output_type": "stream",
       "stream": "stdout",
       "text": [
        "red\n",
        "[-5, 'white', 0.7, 'black', 9.9, 'green']\n"
       ]
      }
     ],
     "prompt_number": 111
    },
    {
     "cell_type": "code",
     "collapsed": false,
     "input": [
      "# Reverse a list\n",
      "\n",
      "L[::-1]"
     ],
     "language": "python",
     "metadata": {},
     "outputs": [
      {
       "metadata": {},
       "output_type": "pyout",
       "prompt_number": 112,
       "text": [
        "[-5, 'white', 0.7, 'black', 9.9, 'green', 3, 'blue', 2, 'red']"
       ]
      }
     ],
     "prompt_number": 112
    },
    {
     "cell_type": "markdown",
     "metadata": {},
     "source": [
      "**Note:**\n",
      "Lists are \"mutable\""
     ]
    },
    {
     "cell_type": "code",
     "collapsed": false,
     "input": [
      "L = ['red', 2, 'blue', 3, 'green', 9.9, 'black', 0.7, 'white', -5]\n",
      "L[2:6] = ['violet',4,'turquois',10.1]\n",
      "L"
     ],
     "language": "python",
     "metadata": {},
     "outputs": [
      {
       "metadata": {},
       "output_type": "pyout",
       "prompt_number": 113,
       "text": [
        "['red', 2, 'violet', 4, 'turquois', 10.1, 'black', 0.7, 'white', -5]"
       ]
      }
     ],
     "prompt_number": 113
    },
    {
     "cell_type": "code",
     "collapsed": false,
     "input": [
      "# removing elements\n",
      "del(L[4:6])\n",
      "L"
     ],
     "language": "python",
     "metadata": {},
     "outputs": [
      {
       "metadata": {},
       "output_type": "pyout",
       "prompt_number": 114,
       "text": [
        "['red', 2, 'violet', 4, 'black', 0.7, 'white', -5]"
       ]
      }
     ],
     "prompt_number": 114
    },
    {
     "cell_type": "code",
     "collapsed": false,
     "input": [
      "# remove an get last element\n",
      "L = ['red', 2, 'blue', 3, 'green', 9.9, 'black', 0.7, 'white', -5]\n",
      "print(L)\n",
      "l1 = L.pop()\n",
      "print(l1)\n",
      "print(L)"
     ],
     "language": "python",
     "metadata": {},
     "outputs": [
      {
       "output_type": "stream",
       "stream": "stdout",
       "text": [
        "['red', 2, 'blue', 3, 'green', 9.9, 'black', 0.7, 'white', -5]\n",
        "-5\n",
        "['red', 2, 'blue', 3, 'green', 9.9, 'black', 0.7, 'white']\n"
       ]
      }
     ],
     "prompt_number": 117
    },
    {
     "cell_type": "code",
     "collapsed": false,
     "input": [
      "# insert element at index\n",
      "L.insert(3,'between blue and 3')\n",
      "print(L)"
     ],
     "language": "python",
     "metadata": {},
     "outputs": [
      {
       "output_type": "stream",
       "stream": "stdout",
       "text": [
        "['red', 2, 'blue', 'between blue and 3', 3, 'green', 9.9, 'black', 0.7, 'white', -5]\n"
       ]
      }
     ],
     "prompt_number": 126
    },
    {
     "cell_type": "code",
     "collapsed": false,
     "input": [
      "# append and extend\n",
      "L = ['red', 2, 'blue', 3, 'green', 9.9, 'black', 0.7, 'white', -5]\n",
      "print('original:{}'.format(L))\n",
      "L1 = [1,'other','list']\n",
      "L.append(L1)\n",
      "print('append: {}'.format(L))\n",
      "L.extend(L1)\n",
      "print('extend:{}'.format(L))\n",
      "L = L + L1\n",
      "print('concatenated: {}'.format(L))\n",
      "L.extend(L1)"
     ],
     "language": "python",
     "metadata": {},
     "outputs": [
      {
       "output_type": "stream",
       "stream": "stdout",
       "text": [
        "original:['red', 2, 'blue', 3, 'green', 9.9, 'black', 0.7, 'white', -5]\n",
        "append: ['red', 2, 'blue', 3, 'green', 9.9, 'black', 0.7, 'white', -5, [1, 'other', 'list']]\n",
        "extend:['red', 2, 'blue', 3, 'green', 9.9, 'black', 0.7, 'white', -5, [1, 'other', 'list'], 1, 'other', 'list']\n",
        "concatenated: ['red', 2, 'blue', 3, 'green', 9.9, 'black', 0.7, 'white', -5, [1, 'other', 'list'], 1, 'other', 'list', 1, 'other', 'list']\n"
       ]
      }
     ],
     "prompt_number": 139
    },
    {
     "cell_type": "markdown",
     "metadata": {},
     "source": [
      "** VERY USEFUL: List comprehension**\n",
      "* replaces one or multiple loops to apply functions to list elements\n",
      "* filter the list at the same time"
     ]
    },
    {
     "cell_type": "code",
     "collapsed": false,
     "input": [
      "x = range(0,10)\n",
      "# apply to each element\n",
      "x2 = [y**2 for y in x]                     \n",
      "# complicated functions can be applied\n",
      "x3 = [y/2.0 if y >= 25 else sqrt(y) for y in x2] \n",
      "# filter\n",
      "x4 = [y for y in x3 if y % 2 == 0]         \n",
      "print(x)\n",
      "print(x2)\n",
      "print(x3)\n",
      "print(x4)"
     ],
     "language": "python",
     "metadata": {},
     "outputs": [
      {
       "output_type": "stream",
       "stream": "stdout",
       "text": [
        "[0, 1, 2, 3, 4, 5, 6, 7, 8, 9]\n",
        "[0, 1, 4, 9, 16, 25, 36, 49, 64, 81]\n",
        "[0.0, 1.0, 2.0, 3.0, 4.0, 12.5, 18.0, 24.5, 32.0, 40.5]\n",
        "[0.0, 2.0, 4.0, 18.0, 32.0]\n"
       ]
      }
     ],
     "prompt_number": 154
    },
    {
     "cell_type": "markdown",
     "metadata": {},
     "source": [
      "## Tuples and Sets\n"
     ]
    },
    {
     "cell_type": "markdown",
     "metadata": {},
     "source": [
      "### Tuples\n",
      "* similar to lists,\n",
      "* but **immutable**"
     ]
    },
    {
     "cell_type": "code",
     "collapsed": false,
     "input": [
      "t = ('hello',1,'triple')\n",
      "print(type(t))\n",
      "t"
     ],
     "language": "python",
     "metadata": {},
     "outputs": [
      {
       "output_type": "stream",
       "stream": "stdout",
       "text": [
        "<type 'tuple'>\n"
       ]
      },
      {
       "metadata": {},
       "output_type": "pyout",
       "prompt_number": 162,
       "text": [
        "('hello', 1, 'triple')"
       ]
      }
     ],
     "prompt_number": 162
    },
    {
     "cell_type": "markdown",
     "metadata": {},
     "source": [
      "### Sets\n",
      "* unordered\n",
      "* mutable\n",
      "* **unique entries**"
     ]
    },
    {
     "cell_type": "code",
     "collapsed": false,
     "input": [
      "s = set((\"a\",4,\"b\",5))\n",
      "print(type(s))\n",
      "s1 = set((7,5,\"c\",\"b\",7,\"b\"))\n",
      "union = s | s1\n",
      "intersect = s & s1\n",
      "print(\"s1: {}\".format(s1))\n",
      "print(\"union: {}\".format(union))\n",
      "print(\"intersect: {}\").format(intersect)"
     ],
     "language": "python",
     "metadata": {},
     "outputs": [
      {
       "output_type": "stream",
       "stream": "stdout",
       "text": [
        "<type 'set'>\n",
        "s1: set(['c', 'b', 5, 7])\n",
        "union: set(['a', 'c', 'b', 4, 5, 7])\n",
        "intersect: set(['b', 5])\n"
       ]
      }
     ],
     "prompt_number": 10
    },
    {
     "cell_type": "code",
     "collapsed": false,
     "input": [],
     "language": "python",
     "metadata": {},
     "outputs": []
    },
    {
     "cell_type": "markdown",
     "metadata": {},
     "source": [
      "<span style=\"background-color:grey\" # 5 Minutes to play with lists, sets and tuples</span>"
     ]
    },
    {
     "cell_type": "markdown",
     "metadata": {},
     "source": [
      "<center><span style=\"background-color:gray;font-size:200%\"> 5 minutes to play with lists, tuples and sets</span></center>"
     ]
    },
    {
     "cell_type": "code",
     "collapsed": false,
     "input": [],
     "language": "python",
     "metadata": {},
     "outputs": []
    },
    {
     "cell_type": "markdown",
     "metadata": {},
     "source": [
      " ## Dictionaries\n",
      " * A dictionary maps _keys_ to _values_\n",
      " * The dictionary is an **unordered** container\n",
      " * Use it to store and retrieve values associated with a name.\n",
      " * _Keys_ can be of any immutable datatype (e.g. numbers, strings)\n",
      " * _Values_ can be anything"
     ]
    },
    {
     "cell_type": "code",
     "collapsed": false,
     "input": [
      "numbers = { \"jack\": 04377465, \"john\": 97264384, \"ralph\":['+41 76 873274',937283] }\n",
      "print(type(numbers))\n",
      "numbers\n",
      "# Observe how Jack's number get interpreted (as octal)"
     ],
     "language": "python",
     "metadata": {},
     "outputs": [
      {
       "output_type": "stream",
       "stream": "stdout",
       "text": [
        "<type 'dict'>\n"
       ]
      },
      {
       "metadata": {},
       "output_type": "pyout",
       "prompt_number": 166,
       "text": [
        "{'jack': 1179445, 'john': 97264384, 'ralph': ['+41 76 873274', 937283]}"
       ]
      }
     ],
     "prompt_number": 166
    },
    {
     "cell_type": "code",
     "collapsed": false,
     "input": [
      "numbers = { \"jack\": 04377465, \"john\": 97264384, \"ralph\":['+41 76 873274',937283] }\n",
      "print(numbers[\"john\"])     # access by name\n",
      "print(numbers[\"ralph\"][0]) # concatenate accessors for contained objects\n",
      "numbers[\"jenny\"] = 9374    # add new entries\n",
      "del(numbers[\"jack\"])       # delete entries\n",
      "numbers\n"
     ],
     "language": "python",
     "metadata": {},
     "outputs": [
      {
       "output_type": "stream",
       "stream": "stdout",
       "text": [
        "97264384\n",
        "+41 76 873274\n"
       ]
      },
      {
       "metadata": {},
       "output_type": "pyout",
       "prompt_number": 173,
       "text": [
        "{'jenny': 9374, 'john': 97264384, 'ralph': ['+41 76 873274', 937283]}"
       ]
      }
     ],
     "prompt_number": 173
    },
    {
     "cell_type": "code",
     "collapsed": false,
     "input": [
      "# \"in\" and \"not in\" work for all containers\n",
      "print('ralph' in numbers)\n",
      "print('ralph' not in numbers)\n",
      "print(97264384 in numbers.values())\n",
      "[str(x) + 'MODIFIED' for x in numbers.values()]    "
     ],
     "language": "python",
     "metadata": {},
     "outputs": [
      {
       "output_type": "stream",
       "stream": "stdout",
       "text": [
        "True\n",
        "False\n",
        "True\n"
       ]
      },
      {
       "metadata": {},
       "output_type": "pyout",
       "prompt_number": 180,
       "text": [
        "['97264384MODIFIED', \"['+41 76 873274', 937283]MODIFIED\", '9374MODIFIED']"
       ]
      }
     ],
     "prompt_number": 180
    },
    {
     "cell_type": "code",
     "collapsed": false,
     "input": [
      "# Another way to construct dictionaries:\n",
      "d = dict([(1,\"one\"), (2,\"two\"), (3,\"three\"), (4,\"four\")])\n",
      "d"
     ],
     "language": "python",
     "metadata": {},
     "outputs": [
      {
       "metadata": {},
       "output_type": "pyout",
       "prompt_number": 185,
       "text": [
        "{1: 'one', 2: 'two', 3: 'three', 4: 'four'}"
       ]
      }
     ],
     "prompt_number": 185
    },
    {
     "cell_type": "code",
     "collapsed": false,
     "input": [
      "# From lists to dictionaries\n",
      "l1 = [\"These\",\"are\",\"words\",\"in\",\"a\",\"sentence\"]\n",
      "l2 = range(0,len(l1))\n",
      "# Note: \"len()\" gives the number of elements of any container type\n",
      "\n",
      "# zip creates a list of corresponding pairs of two lists with equal length\n",
      "pairs = zip(l1,l2) \n",
      "dicty = dict(pairs)\n",
      "\n",
      "print(\"l1 : {}\".format(l1))\n",
      "print(\"l2 : {}\".format(l2))\n",
      "print(\"pairs : {}\".format(pairs))\n",
      "print(\"dicty : {}\".format(dicty))"
     ],
     "language": "python",
     "metadata": {},
     "outputs": [
      {
       "output_type": "stream",
       "stream": "stdout",
       "text": [
        "l1 : ['These', 'are', 'words', 'in', 'a', 'sentence']\n",
        "l2 : [0, 1, 2, 3, 4, 5]\n",
        "pairs : [('These', 0), ('are', 1), ('words', 2), ('in', 3), ('a', 4), ('sentence', 5)]\n",
        "dicty : {'a': 4, 'sentence': 5, 'These': 0, 'are': 1, 'words': 2, 'in': 3}\n"
       ]
      }
     ],
     "prompt_number": 35
    },
    {
     "cell_type": "code",
     "collapsed": false,
     "input": [
      "# There are more dictionary methods\n",
      "from IPython.display import HTML\n",
      "HTML('<iframe src=\"https://docs.python.org/2/library/stdtypes.html#dict\" width=700 height=350></iframe>')"
     ],
     "language": "python",
     "metadata": {},
     "outputs": [
      {
       "html": [
        "<iframe src=\"https://docs.python.org/2/library/stdtypes.html#dict\" width=700 height=350></iframe>"
       ],
       "metadata": {},
       "output_type": "pyout",
       "prompt_number": 48,
       "text": [
        "<IPython.core.display.HTML at 0x43e8450>"
       ]
      }
     ],
     "prompt_number": 48
    },
    {
     "cell_type": "markdown",
     "metadata": {},
     "source": [
      "# Control-Flow"
     ]
    },
    {
     "cell_type": "markdown",
     "metadata": {},
     "source": [
      "# if - elif - else\n",
      "* just as you would expect"
     ]
    },
    {
     "cell_type": "code",
     "collapsed": false,
     "input": [
      "n = 23\n",
      "a = range(0,11)\n",
      "if n in a:\n",
      "    print(\"In\")\n",
      "elif n == 23:\n",
      "    print(\"Should be in\")\n",
      "else:\n",
      "    print(\"{} is a bad number.\".format(n))\n"
     ],
     "language": "python",
     "metadata": {},
     "outputs": [
      {
       "output_type": "stream",
       "stream": "stdout",
       "text": [
        "Should be in\n"
       ]
      }
     ],
     "prompt_number": 25
    },
    {
     "cell_type": "markdown",
     "metadata": {},
     "source": [
      "* ** Blocks of code are identified by indentation (4 spaces)!**\n",
      "* ** This is a feature that tends to irritate beginners sometimes**\n",
      "* Get used to it and enjoy less bracket-cluttered code"
     ]
    },
    {
     "cell_type": "code",
     "collapsed": false,
     "input": [
      "# The \"ternary operator\"\n",
      "n = 2\n",
      "a = range(0,11)\n",
      "x = \"In\" if n in a else \"Bad number\"\n",
      "print(x)\n"
     ],
     "language": "python",
     "metadata": {},
     "outputs": []
    },
    {
     "cell_type": "markdown",
     "metadata": {},
     "source": [
      "## Iteration\n",
      "* nothing new here\n",
      "* \"break\" and \"continue\" work as expected"
     ]
    },
    {
     "cell_type": "code",
     "collapsed": false,
     "input": [
      "# for\n",
      "\n",
      "for i in range(20,31):\n",
      "    print(i**2),\n",
      "\n",
      "# Note: The comma at the end of the \"print\" statement suppress printing of a newline at the end. "
     ],
     "language": "python",
     "metadata": {},
     "outputs": [
      {
       "output_type": "stream",
       "stream": "stdout",
       "text": [
        "400 441 484 529 576 625 676 729 784 841 900\n"
       ]
      }
     ],
     "prompt_number": 33
    },
    {
     "cell_type": "code",
     "collapsed": false,
     "input": [
      "# while\n",
      "\n",
      "q = 10\n",
      "while q <= 900:\n",
      "    q += q*3\n",
      "    print(q),"
     ],
     "language": "python",
     "metadata": {},
     "outputs": []
    },
    {
     "cell_type": "markdown",
     "metadata": {},
     "source": [
      "** Reminder: Use list-comprehension if possible!**"
     ]
    },
    {
     "cell_type": "code",
     "collapsed": false,
     "input": [
      "# dict.iteritems()\n",
      "# iterating over keys *and* values of dictionaries\n",
      "\n",
      "d = dict([(1,\"one\"), (2,\"two\"), (3,\"three\"), (4,\"four\")])\n",
      "for k, v in d.iteritems():\n",
      "    print(\"Key: {}, Value: {}\".format(k, v))\n",
      "    \n",
      "# Note a tuple T (or list) on the right hand side of an assignment\n",
      "# can be directly assigned to len(T) individual variables on the left hand side.\n",
      "a, b, c, d = (1,2,3,4)\n",
      "print(a,b,c,d)"
     ],
     "language": "python",
     "metadata": {},
     "outputs": []
    },
    {
     "cell_type": "code",
     "collapsed": false,
     "input": [
      "# enumerate(list)\n",
      "# iterate over list and list-index at the same time\n",
      "\n",
      "l1 = [\"These\",\"are\",\"words\",\"in\",\"a\",\"sentence\"]\n",
      "for i, x in enumerate(l1):\n",
      "    print(\"Index = {}; Item = {}\".format(i,x))\n"
     ],
     "language": "python",
     "metadata": {},
     "outputs": [
      {
       "output_type": "stream",
       "stream": "stdout",
       "text": [
        "Index = 0; Item = These\n",
        "Index = 1; Item = are\n",
        "Index = 2; Item = words\n",
        "Index = 3; Item = in\n",
        "Index = 4; Item = a\n",
        "Index = 5; Item = sentence\n"
       ]
      }
     ],
     "prompt_number": 49
    },
    {
     "cell_type": "code",
     "collapsed": false,
     "input": [],
     "language": "python",
     "metadata": {},
     "outputs": []
    },
    {
     "cell_type": "code",
     "collapsed": false,
     "input": [],
     "language": "python",
     "metadata": {},
     "outputs": []
    },
    {
     "cell_type": "markdown",
     "metadata": {},
     "source": [
      "# Functions\n",
      "* Functions are \"first-class-citizens\":<br />\n",
      "They can be passed as a parameter, returned from a function,<br />\n",
      "assigned to a variable, and put into containers.\n",
      "* The usual scope-rules apply: Local, Enclosing, Global, Builtin.\n",
      "* Functions can be nested in functions.\n"
     ]
    },
    {
     "cell_type": "code",
     "collapsed": false,
     "input": [
      "# Function definition\n",
      "\n",
      "def my_function(a, b, c):\n",
      "    print(a, b, c)\n",
      "    res = (a + b)**c\n",
      "    return(res)\n",
      "\n",
      "my_function(2, 3, 1.123)\n"
     ],
     "language": "python",
     "metadata": {},
     "outputs": []
    },
    {
     "cell_type": "markdown",
     "metadata": {},
     "source": [
      "There are required _positional-_ and optional _keyword-_ parameters (just like in R)"
     ]
    },
    {
     "cell_type": "code",
     "collapsed": false,
     "input": [
      "def my_func2(a, b, default=1):\n",
      "    print(a, b, default)\n",
      "    res = (a + b)**default\n",
      "    return(res)\n",
      "\n",
      "print(my_func2(2,3))\n",
      "print(my_func2(2, 3, 1.123))\n",
      "    \n",
      "    "
     ],
     "language": "python",
     "metadata": {},
     "outputs": []
    },
    {
     "cell_type": "markdown",
     "metadata": {},
     "source": [
      "<center><span style=\"background-color:gray;font-size:200%\"> 5 minutes to play with dictionaries, control-flow and functions</span></center>"
     ]
    },
    {
     "cell_type": "markdown",
     "metadata": {},
     "source": [
      "# A little exercise\n",
      "In the next session, we need several files from the ERA-Interim reanalysis dataset.<br />\n",
      "Write a function that takes year, month, startday, and endday as parameters, and returns\n",
      "list a of corresponding Z-level filenames (with absolute paths).\n",
      "The input parameters have to be numeric (not string)."
     ]
    },
    {
     "cell_type": "code",
     "collapsed": false,
     "input": [
      "# The path to erainterim\n",
      "root = '/net/atmos/data/erainterim/cdf'\n",
      "\n",
      "# below that directory the path is <year>/<month>/.\n",
      "# <year> has values from 1979 - 2014, <month> from 01 - 12.\n",
      "# Under the <month> directory is a large number of files.\n",
      "# The Z-files have the form:\n",
      "# Z<year><month><day>_hour\n",
      "# For example:\n",
      "# <root>/2010/09/Z20100903_18\n",
      "# refers to Sept. 3, 2010, 18:00h"
     ],
     "language": "python",
     "metadata": {},
     "outputs": [],
     "prompt_number": 2
    },
    {
     "cell_type": "code",
     "collapsed": false,
     "input": [
      "# helpful modules\n",
      "import os.path\n",
      "import glob\n",
      "\n",
      "# example parameters\n",
      "startday = 3\n",
      "endday = 8\n",
      "month = 9\n",
      "year = 2010\n",
      "\n",
      "# your function here:\n",
      "\n",
      "\n",
      "\n",
      "\n",
      "files = get_zfile(startday, endday, month, year)\n",
      "print(files)\n"
     ],
     "language": "python",
     "metadata": {},
     "outputs": [],
     "prompt_number": 4
    },
    {
     "cell_type": "code",
     "collapsed": false,
     "input": [],
     "language": "python",
     "metadata": {},
     "outputs": []
    }
   ],
   "metadata": {}
  }
 ]
}