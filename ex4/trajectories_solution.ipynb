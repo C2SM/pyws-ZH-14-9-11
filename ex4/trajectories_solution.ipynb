{
 "metadata": {
  "name": "",
  "signature": "sha256:84e3185b48f3956dff479f8c204d149d424c01d14fbfebd7dbeefe50b33fadce"
 },
 "nbformat": 3,
 "nbformat_minor": 0,
 "worksheets": [
  {
   "cells": [
    {
     "cell_type": "code",
     "collapsed": false,
     "input": [
      "%pylab inline\n",
      "rcParams['figure.figsize'] = (10,6)\n",
      "from scipy import interpolate\n",
      "from lagranto import Tra\n",
      "from mpl_toolkits.axes_grid1 import AxesGrid\n",
      "import matplotlib.gridspec as gridspec\n",
      "from mpl_toolkits.basemap import Basemap\n",
      "from matplotlib.collections import LineCollection"
     ],
     "language": "python",
     "metadata": {},
     "outputs": []
    },
    {
     "cell_type": "markdown",
     "metadata": {},
     "source": [
      "## Loading trajectories using Tra"
     ]
    },
    {
     "cell_type": "code",
     "collapsed": false,
     "input": [
      "filename = 'data/lsl_20070119_12_ana_48'\n",
      "trajs = Tra(filename)\n",
      "print trajs\n",
      "print trajs.shape"
     ],
     "language": "python",
     "metadata": {},
     "outputs": []
    },
    {
     "cell_type": "markdown",
     "metadata": {},
     "source": [
      "## Interpolate PV to evenly spaced pressure levels"
     ]
    },
    {
     "cell_type": "code",
     "collapsed": false,
     "input": [
      "ilevels = np.arange(200,1000,50)\n",
      "nlev = len(ilevels)"
     ],
     "language": "python",
     "metadata": {},
     "outputs": []
    },
    {
     "cell_type": "code",
     "collapsed": false,
     "input": [
      "def interp(pvalue, intvalue):\n",
      "    interpfield = interpolate.interp1d(pvalue[::-1], intvalue[::-1], bounds_error=False)\n",
      "    return interpfield(ilevels)"
     ],
     "language": "python",
     "metadata": {},
     "outputs": []
    },
    {
     "cell_type": "code",
     "collapsed": false,
     "input": [
      "ntrajs = {}\n",
      "variables = ['Q', 'RH', 'TH', 'PV']\n",
      "for var in variables:\n",
      "    ntrajs[var] = np.zeros((trajs.ntra, nlev))\n",
      "for i, traj in enumerate(trajs):\n",
      "    for var in variables:\n",
      "        ntrajs[var][i, :] = interp(traj['P'], traj[var])"
     ],
     "language": "python",
     "metadata": {},
     "outputs": []
    },
    {
     "cell_type": "markdown",
     "metadata": {},
     "source": [
      "## Plot the mean, mean + std, mean - std of PV interpolated on pressure levels"
     ]
    },
    {
     "cell_type": "code",
     "collapsed": false,
     "input": [
      "ax = subplot(111)\n",
      "mean = np.nanmean(ntrajs['PV'], axis=0)\n",
      "std = np.nanstd(ntrajs['PV'], axis=0)\n",
      "pstd = mean + std\n",
      "mstd = mean - std\n",
      "_ = fill_between(ilevels, pstd, mstd, alpha=0.5, label='+/- standar deviation')\n",
      "_ = plot(ilevels, np.nanmean(ntrajs['PV'], axis=0), 'r', label='mean')\n",
      "_ = xticks(ilevels)\n",
      "ax.invert_xaxis()\n",
      "legend()"
     ],
     "language": "python",
     "metadata": {},
     "outputs": []
    },
    {
     "cell_type": "markdown",
     "metadata": {},
     "source": [
      "## Plot the same values for TH, RH, PV, Q in a 4x4 plot using AxesGrid"
     ]
    },
    {
     "cell_type": "code",
     "collapsed": false,
     "input": [
      "def plot_mean_std(pos, var):\n",
      "    ax = subplot(pos)\n",
      "    mean = np.nanmean(ntrajs[var], axis=0)\n",
      "    std = np.nanstd(ntrajs[var], axis=0)\n",
      "    pstd = mean + std\n",
      "    mstd = mean - std\n",
      "    mins = np.nanmin(mstd)\n",
      "    maxs = np.nanmax(pstd)\n",
      "    ax.set_title(var)\n",
      "    _ = ax.fill_between(ilevels, pstd, mstd, alpha=0.5, label='+/- standar deviation')\n",
      "    _ = ax.plot(ilevels, np.nanmean(ntrajs[var], axis=0), 'r', label='mean')\n",
      "    _ = ax.set_xticks(ilevels)\n",
      "    ax.invert_xaxis()\n",
      "    legend()"
     ],
     "language": "python",
     "metadata": {},
     "outputs": []
    },
    {
     "cell_type": "code",
     "collapsed": false,
     "input": [
      "fig = figure(figsize=(20,20))\n",
      "grid = gridspec.GridSpec(2,2, wspace=0.1, hspace=0.1)\n",
      "for box, var in zip(grid, variables):\n",
      "    plot_mean_std(box, var)"
     ],
     "language": "python",
     "metadata": {},
     "outputs": []
    },
    {
     "cell_type": "markdown",
     "metadata": {},
     "source": [
      "## Do a scatter plot of Q versus PV, with points colored by pressure"
     ]
    },
    {
     "cell_type": "code",
     "collapsed": false,
     "input": [
      "scatter(trajs['Q'], trajs['PV'], c=trajs['P'])\n",
      "colorbar()"
     ],
     "language": "python",
     "metadata": {},
     "outputs": []
    },
    {
     "cell_type": "markdown",
     "metadata": {},
     "source": [
      "## Plot TH at each P level in the form of a boxplot"
     ]
    },
    {
     "cell_type": "code",
     "collapsed": false,
     "input": [
      "ax = subplot(111)\n",
      "bplot = boxplot(ntrajs['TH'], sym='')\n",
      "for line in bplot['medians']:\n",
      "    line.set_color('k')\n",
      "ax.set_xticklabels([str(level) for level in ilevels])\n",
      "ax.invert_xaxis()"
     ],
     "language": "python",
     "metadata": {},
     "outputs": []
    },
    {
     "cell_type": "markdown",
     "metadata": {},
     "source": [
      "## Plot the trajectories on a map"
     ]
    },
    {
     "cell_type": "code",
     "collapsed": false,
     "input": [
      "lllon,urlon = trajs['lon'].min(), trajs['lon'].max()\n",
      "lllat,urlat = trajs['lat'].min(), trajs['lat'].max()\n",
      "mapf = Basemap(llcrnrlon=lllon,llcrnrlat=lllat, urcrnrlon=urlon, urcrnrlat=urlat, resolution='i')"
     ],
     "language": "python",
     "metadata": {},
     "outputs": []
    },
    {
     "cell_type": "code",
     "collapsed": false,
     "input": [
      "mapf.drawcoastlines()\n",
      "mapf.plot(trajs['lon'].T, trajs['lat'].T, latlon=True, color='k')\n",
      "title('Trajectories')"
     ],
     "language": "python",
     "metadata": {},
     "outputs": []
    },
    {
     "cell_type": "markdown",
     "metadata": {},
     "source": [
      "## Plot the trajectories colored by pressure on a map"
     ]
    },
    {
     "cell_type": "code",
     "collapsed": false,
     "input": [
      "mapf.drawcoastlines()\n",
      "for traj in trajs:\n",
      "    points = np.array([traj['lon'], traj['lat']]).T.reshape(-1, 1, 2)\n",
      "    segments = np.concatenate([points[:-1], points[1:]], axis=1)\n",
      "    lc = LineCollection(segments, cmap=plt.get_cmap('Spectral'))\n",
      "    lc.set_array(traj['P'])\n",
      "    plt.gca().add_collection(lc)\n",
      "colorbar(lc)"
     ],
     "language": "python",
     "metadata": {},
     "outputs": []
    },
    {
     "cell_type": "code",
     "collapsed": true,
     "input": [],
     "language": "python",
     "metadata": {},
     "outputs": []
    }
   ],
   "metadata": {}
  }
 ]
}