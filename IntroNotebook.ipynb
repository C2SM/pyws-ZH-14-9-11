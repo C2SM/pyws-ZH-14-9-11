{
 "metadata": {
  "celltoolbar": "Raw Cell Format",
  "name": "",
  "signature": "sha256:d96610c22f7b34e227287cdd749a995000680fb45e496a72238fd7edd55a6cea"
 },
 "nbformat": 3,
 "nbformat_minor": 0,
 "worksheets": [
  {
   "cells": [
    {
     "cell_type": "markdown",
     "metadata": {},
     "source": [
      "Learning Objectives\n",
      "===================\n",
      "\n",
      "+ Get to know the overall Notebook environment\n",
      "+ The usage of cells\n",
      "+ Interactively explore Python\n",
      "+ Basic shell commands and navigating directories\n",
      "+ Use keyboard shortcuts\n",
      "+ Exporting notebooks as .py\n",
      "+ Magic functions\n",
      "+ Save and exit"
     ]
    },
    {
     "cell_type": "code",
     "collapsed": false,
     "input": [
      "a = \"iPython Notebook \"\n",
      "b = \"is amazing!\"\n",
      "a+b"
     ],
     "language": "python",
     "metadata": {
      "slideshow": {
       "slide_type": "notes"
      }
     },
     "outputs": [
      {
       "metadata": {},
       "output_type": "pyout",
       "prompt_number": 38,
       "text": [
        "'iPython Notebook is amazing!'"
       ]
      }
     ],
     "prompt_number": 38
    },
    {
     "cell_type": "markdown",
     "metadata": {},
     "source": [
      "Markdown - was ist denn das?\n",
      "=============================\n",
      "\n",
      "Sections\n",
      "--------\n",
      "\n",
      "### Subsections\n",
      "\n",
      "#### Subsubsection\n",
      "\n",
      "+ **Some Markdown - fat**\n",
      "+ We already had lists\n",
      "    + Sublists\n",
      "    + * italics in sub-sub list\n",
      "+ <a href=\"http://daringfireball.net/projects/markdown/\">Direct HTML possible</a>\n",
      "+ ... but [not necessary](http://daringfireball.net/projects/markdown/syntax#link)\n",
      "\n"
     ]
    },
    {
     "cell_type": "markdown",
     "metadata": {},
     "source": [
      "Help\n",
      "----\n",
      "\n",
      "%quickref\n",
      "\n",
      "<table border=\"1\" class=\"docutils\">\n",
      "<colgroup>\n",
      "<col width=\"15%\"/>\n",
      "<col width=\"85%\"/>\n",
      "</colgroup>\n",
      "<thead valign=\"bottom\">\n",
      "<tr class=\"row-odd\"><th class=\"head\">command</th>\n",
      "<th class=\"head\">description</th>\n",
      "</tr>\n",
      "</thead>\n",
      "<tbody valign=\"top\">\n",
      "<tr class=\"row-even\"><td>?</td>\n",
      "<td>Introduction and overview of IPython&#8217;s features.</td>\n",
      "</tr>\n",
      "<tr class=\"row-odd\"><td>%quickref</td>\n",
      "<td>Quick reference.</td>\n",
      "</tr>\n",
      "<tr class=\"row-even\"><td>help</td>\n",
      "<td>Python&#8217;s own help system.</td>\n",
      "</tr>\n",
      "<tr class=\"row-odd\"><td>object?</td>\n",
      "<td>Details about &#8216;object&#8217;, use &#8216;object??&#8217; for extra details.</td>\n",
      "</tr>\n",
      "</tbody>\n",
      "</table>"
     ]
    },
    {
     "cell_type": "code",
     "collapsed": false,
     "input": [
      "?a\n",
      "type(a)\n"
     ],
     "language": "python",
     "metadata": {},
     "outputs": [
      {
       "metadata": {},
       "output_type": "pyout",
       "prompt_number": 42,
       "text": [
        "str"
       ]
      }
     ],
     "prompt_number": 42
    },
    {
     "cell_type": "code",
     "collapsed": false,
     "input": [
      "print(a+b)"
     ],
     "language": "python",
     "metadata": {},
     "outputs": [
      {
       "output_type": "stream",
       "stream": "stdout",
       "text": [
        "iPython Notebook is amazing!\n"
       ]
      }
     ],
     "prompt_number": 43
    },
    {
     "cell_type": "code",
     "collapsed": false,
     "input": [
      "%ma"
     ],
     "language": "python",
     "metadata": {},
     "outputs": []
    },
    {
     "cell_type": "code",
     "collapsed": false,
     "input": [
      "from IPython.core.display import Image"
     ],
     "language": "python",
     "metadata": {},
     "outputs": []
    },
    {
     "cell_type": "code",
     "collapsed": false,
     "input": [
      "display(Image('./ex1/figures/IPython.png'))"
     ],
     "language": "python",
     "metadata": {},
     "outputs": []
    },
    {
     "cell_type": "code",
     "collapsed": false,
     "input": [
      "print(a)"
     ],
     "language": "python",
     "metadata": {},
     "outputs": []
    },
    {
     "cell_type": "code",
     "collapsed": false,
     "input": [],
     "language": "python",
     "metadata": {},
     "outputs": []
    },
    {
     "cell_type": "code",
     "collapsed": false,
     "input": [],
     "language": "python",
     "metadata": {},
     "outputs": []
    },
    {
     "cell_type": "code",
     "collapsed": false,
     "input": [],
     "language": "python",
     "metadata": {},
     "outputs": []
    }
   ],
   "metadata": {}
  }
 ]
}